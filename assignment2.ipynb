{
 "cells": [
  {
   "cell_type": "markdown",
   "metadata": {},
   "source": [
    "# #  Data Retrieving "
   ]
  },
  {
   "cell_type": "code",
   "execution_count": 1,
   "metadata": {},
   "outputs": [],
   "source": [
    "import pandas as pd\n",
    "import numpy as np"
   ]
  },
  {
   "cell_type": "code",
   "execution_count": 2,
   "metadata": {},
   "outputs": [],
   "source": [
    "from matplotlib import pyplot as plt"
   ]
  },
  {
   "cell_type": "code",
   "execution_count": 3,
   "metadata": {},
   "outputs": [],
   "source": [
    "car='car.txt'"
   ]
  },
  {
   "cell_type": "code",
   "execution_count": 4,
   "metadata": {},
   "outputs": [],
   "source": [
    "cars=pd.read_csv(car, sep=',')"
   ]
  },
  {
   "cell_type": "code",
   "execution_count": 5,
   "metadata": {},
   "outputs": [
    {
     "data": {
      "text/html": [
       "<div>\n",
       "<style scoped>\n",
       "    .dataframe tbody tr th:only-of-type {\n",
       "        vertical-align: middle;\n",
       "    }\n",
       "\n",
       "    .dataframe tbody tr th {\n",
       "        vertical-align: top;\n",
       "    }\n",
       "\n",
       "    .dataframe thead th {\n",
       "        text-align: right;\n",
       "    }\n",
       "</style>\n",
       "<table border=\"1\" class=\"dataframe\">\n",
       "  <thead>\n",
       "    <tr style=\"text-align: right;\">\n",
       "      <th></th>\n",
       "      <th>vhigh</th>\n",
       "      <th>vhigh.1</th>\n",
       "      <th>2</th>\n",
       "      <th>2.1</th>\n",
       "      <th>small</th>\n",
       "      <th>low</th>\n",
       "      <th>unacc</th>\n",
       "    </tr>\n",
       "  </thead>\n",
       "  <tbody>\n",
       "    <tr>\n",
       "      <th>0</th>\n",
       "      <td>vhigh</td>\n",
       "      <td>vhigh</td>\n",
       "      <td>2</td>\n",
       "      <td>2</td>\n",
       "      <td>small</td>\n",
       "      <td>med</td>\n",
       "      <td>unacc</td>\n",
       "    </tr>\n",
       "    <tr>\n",
       "      <th>1</th>\n",
       "      <td>vhigh</td>\n",
       "      <td>vhigh</td>\n",
       "      <td>2</td>\n",
       "      <td>2</td>\n",
       "      <td>small</td>\n",
       "      <td>high</td>\n",
       "      <td>unacc</td>\n",
       "    </tr>\n",
       "    <tr>\n",
       "      <th>2</th>\n",
       "      <td>vhigh</td>\n",
       "      <td>vhigh</td>\n",
       "      <td>2</td>\n",
       "      <td>2</td>\n",
       "      <td>med</td>\n",
       "      <td>low</td>\n",
       "      <td>unacc</td>\n",
       "    </tr>\n",
       "    <tr>\n",
       "      <th>3</th>\n",
       "      <td>vhigh</td>\n",
       "      <td>vhigh</td>\n",
       "      <td>2</td>\n",
       "      <td>2</td>\n",
       "      <td>med</td>\n",
       "      <td>med</td>\n",
       "      <td>unacc</td>\n",
       "    </tr>\n",
       "    <tr>\n",
       "      <th>4</th>\n",
       "      <td>vhigh</td>\n",
       "      <td>vhigh</td>\n",
       "      <td>2</td>\n",
       "      <td>2</td>\n",
       "      <td>med</td>\n",
       "      <td>high</td>\n",
       "      <td>unacc</td>\n",
       "    </tr>\n",
       "    <tr>\n",
       "      <th>5</th>\n",
       "      <td>vhigh</td>\n",
       "      <td>vhigh</td>\n",
       "      <td>2</td>\n",
       "      <td>2</td>\n",
       "      <td>big</td>\n",
       "      <td>low</td>\n",
       "      <td>unacc</td>\n",
       "    </tr>\n",
       "    <tr>\n",
       "      <th>6</th>\n",
       "      <td>vhigh</td>\n",
       "      <td>vhigh</td>\n",
       "      <td>2</td>\n",
       "      <td>2</td>\n",
       "      <td>big</td>\n",
       "      <td>med</td>\n",
       "      <td>unacc</td>\n",
       "    </tr>\n",
       "    <tr>\n",
       "      <th>7</th>\n",
       "      <td>vhigh</td>\n",
       "      <td>vhigh</td>\n",
       "      <td>2</td>\n",
       "      <td>2</td>\n",
       "      <td>big</td>\n",
       "      <td>high</td>\n",
       "      <td>unacc</td>\n",
       "    </tr>\n",
       "    <tr>\n",
       "      <th>8</th>\n",
       "      <td>vhigh</td>\n",
       "      <td>vhigh</td>\n",
       "      <td>2</td>\n",
       "      <td>4</td>\n",
       "      <td>small</td>\n",
       "      <td>low</td>\n",
       "      <td>unacc</td>\n",
       "    </tr>\n",
       "    <tr>\n",
       "      <th>9</th>\n",
       "      <td>vhigh</td>\n",
       "      <td>vhigh</td>\n",
       "      <td>2</td>\n",
       "      <td>4</td>\n",
       "      <td>small</td>\n",
       "      <td>med</td>\n",
       "      <td>unacc</td>\n",
       "    </tr>\n",
       "    <tr>\n",
       "      <th>10</th>\n",
       "      <td>vhigh</td>\n",
       "      <td>vhigh</td>\n",
       "      <td>2</td>\n",
       "      <td>4</td>\n",
       "      <td>small</td>\n",
       "      <td>high</td>\n",
       "      <td>unacc</td>\n",
       "    </tr>\n",
       "    <tr>\n",
       "      <th>11</th>\n",
       "      <td>vhigh</td>\n",
       "      <td>vhigh</td>\n",
       "      <td>2</td>\n",
       "      <td>4</td>\n",
       "      <td>med</td>\n",
       "      <td>low</td>\n",
       "      <td>unacc</td>\n",
       "    </tr>\n",
       "    <tr>\n",
       "      <th>12</th>\n",
       "      <td>vhigh</td>\n",
       "      <td>vhigh</td>\n",
       "      <td>2</td>\n",
       "      <td>4</td>\n",
       "      <td>med</td>\n",
       "      <td>med</td>\n",
       "      <td>unacc</td>\n",
       "    </tr>\n",
       "    <tr>\n",
       "      <th>13</th>\n",
       "      <td>vhigh</td>\n",
       "      <td>vhigh</td>\n",
       "      <td>2</td>\n",
       "      <td>4</td>\n",
       "      <td>med</td>\n",
       "      <td>high</td>\n",
       "      <td>unacc</td>\n",
       "    </tr>\n",
       "    <tr>\n",
       "      <th>14</th>\n",
       "      <td>vhigh</td>\n",
       "      <td>vhigh</td>\n",
       "      <td>2</td>\n",
       "      <td>4</td>\n",
       "      <td>big</td>\n",
       "      <td>low</td>\n",
       "      <td>unacc</td>\n",
       "    </tr>\n",
       "    <tr>\n",
       "      <th>15</th>\n",
       "      <td>vhigh</td>\n",
       "      <td>vhigh</td>\n",
       "      <td>2</td>\n",
       "      <td>4</td>\n",
       "      <td>big</td>\n",
       "      <td>med</td>\n",
       "      <td>unacc</td>\n",
       "    </tr>\n",
       "    <tr>\n",
       "      <th>16</th>\n",
       "      <td>vhigh</td>\n",
       "      <td>vhigh</td>\n",
       "      <td>2</td>\n",
       "      <td>4</td>\n",
       "      <td>big</td>\n",
       "      <td>high</td>\n",
       "      <td>unacc</td>\n",
       "    </tr>\n",
       "    <tr>\n",
       "      <th>17</th>\n",
       "      <td>vhigh</td>\n",
       "      <td>vhigh</td>\n",
       "      <td>2</td>\n",
       "      <td>more</td>\n",
       "      <td>small</td>\n",
       "      <td>low</td>\n",
       "      <td>unacc</td>\n",
       "    </tr>\n",
       "    <tr>\n",
       "      <th>18</th>\n",
       "      <td>vhigh</td>\n",
       "      <td>vhigh</td>\n",
       "      <td>2</td>\n",
       "      <td>more</td>\n",
       "      <td>small</td>\n",
       "      <td>med</td>\n",
       "      <td>unacc</td>\n",
       "    </tr>\n",
       "    <tr>\n",
       "      <th>19</th>\n",
       "      <td>vhigh</td>\n",
       "      <td>vhigh</td>\n",
       "      <td>2</td>\n",
       "      <td>more</td>\n",
       "      <td>small</td>\n",
       "      <td>high</td>\n",
       "      <td>unacc</td>\n",
       "    </tr>\n",
       "    <tr>\n",
       "      <th>20</th>\n",
       "      <td>vhigh</td>\n",
       "      <td>vhigh</td>\n",
       "      <td>2</td>\n",
       "      <td>more</td>\n",
       "      <td>med</td>\n",
       "      <td>low</td>\n",
       "      <td>unacc</td>\n",
       "    </tr>\n",
       "    <tr>\n",
       "      <th>21</th>\n",
       "      <td>vhigh</td>\n",
       "      <td>vhigh</td>\n",
       "      <td>2</td>\n",
       "      <td>more</td>\n",
       "      <td>med</td>\n",
       "      <td>med</td>\n",
       "      <td>unacc</td>\n",
       "    </tr>\n",
       "    <tr>\n",
       "      <th>22</th>\n",
       "      <td>vhigh</td>\n",
       "      <td>vhigh</td>\n",
       "      <td>2</td>\n",
       "      <td>more</td>\n",
       "      <td>med</td>\n",
       "      <td>high</td>\n",
       "      <td>unacc</td>\n",
       "    </tr>\n",
       "    <tr>\n",
       "      <th>23</th>\n",
       "      <td>vhigh</td>\n",
       "      <td>vhigh</td>\n",
       "      <td>2</td>\n",
       "      <td>more</td>\n",
       "      <td>big</td>\n",
       "      <td>low</td>\n",
       "      <td>unacc</td>\n",
       "    </tr>\n",
       "    <tr>\n",
       "      <th>24</th>\n",
       "      <td>vhigh</td>\n",
       "      <td>vhigh</td>\n",
       "      <td>2</td>\n",
       "      <td>more</td>\n",
       "      <td>big</td>\n",
       "      <td>med</td>\n",
       "      <td>unacc</td>\n",
       "    </tr>\n",
       "    <tr>\n",
       "      <th>25</th>\n",
       "      <td>vhigh</td>\n",
       "      <td>vhigh</td>\n",
       "      <td>2</td>\n",
       "      <td>more</td>\n",
       "      <td>big</td>\n",
       "      <td>high</td>\n",
       "      <td>unacc</td>\n",
       "    </tr>\n",
       "    <tr>\n",
       "      <th>26</th>\n",
       "      <td>vhigh</td>\n",
       "      <td>vhigh</td>\n",
       "      <td>3</td>\n",
       "      <td>2</td>\n",
       "      <td>small</td>\n",
       "      <td>low</td>\n",
       "      <td>unacc</td>\n",
       "    </tr>\n",
       "    <tr>\n",
       "      <th>27</th>\n",
       "      <td>vhigh</td>\n",
       "      <td>vhigh</td>\n",
       "      <td>3</td>\n",
       "      <td>2</td>\n",
       "      <td>small</td>\n",
       "      <td>med</td>\n",
       "      <td>unacc</td>\n",
       "    </tr>\n",
       "    <tr>\n",
       "      <th>28</th>\n",
       "      <td>vhigh</td>\n",
       "      <td>vhigh</td>\n",
       "      <td>3</td>\n",
       "      <td>2</td>\n",
       "      <td>small</td>\n",
       "      <td>high</td>\n",
       "      <td>unacc</td>\n",
       "    </tr>\n",
       "    <tr>\n",
       "      <th>29</th>\n",
       "      <td>vhigh</td>\n",
       "      <td>vhigh</td>\n",
       "      <td>3</td>\n",
       "      <td>2</td>\n",
       "      <td>med</td>\n",
       "      <td>low</td>\n",
       "      <td>unacc</td>\n",
       "    </tr>\n",
       "    <tr>\n",
       "      <th>...</th>\n",
       "      <td>...</td>\n",
       "      <td>...</td>\n",
       "      <td>...</td>\n",
       "      <td>...</td>\n",
       "      <td>...</td>\n",
       "      <td>...</td>\n",
       "      <td>...</td>\n",
       "    </tr>\n",
       "    <tr>\n",
       "      <th>1697</th>\n",
       "      <td>low</td>\n",
       "      <td>low</td>\n",
       "      <td>4</td>\n",
       "      <td>more</td>\n",
       "      <td>big</td>\n",
       "      <td>low</td>\n",
       "      <td>unacc</td>\n",
       "    </tr>\n",
       "    <tr>\n",
       "      <th>1698</th>\n",
       "      <td>low</td>\n",
       "      <td>low</td>\n",
       "      <td>4</td>\n",
       "      <td>more</td>\n",
       "      <td>big</td>\n",
       "      <td>med</td>\n",
       "      <td>good</td>\n",
       "    </tr>\n",
       "    <tr>\n",
       "      <th>1699</th>\n",
       "      <td>low</td>\n",
       "      <td>low</td>\n",
       "      <td>4</td>\n",
       "      <td>more</td>\n",
       "      <td>big</td>\n",
       "      <td>high</td>\n",
       "      <td>vgood</td>\n",
       "    </tr>\n",
       "    <tr>\n",
       "      <th>1700</th>\n",
       "      <td>low</td>\n",
       "      <td>low</td>\n",
       "      <td>5more</td>\n",
       "      <td>2</td>\n",
       "      <td>small</td>\n",
       "      <td>low</td>\n",
       "      <td>unacc</td>\n",
       "    </tr>\n",
       "    <tr>\n",
       "      <th>1701</th>\n",
       "      <td>low</td>\n",
       "      <td>low</td>\n",
       "      <td>5more</td>\n",
       "      <td>2</td>\n",
       "      <td>small</td>\n",
       "      <td>med</td>\n",
       "      <td>unacc</td>\n",
       "    </tr>\n",
       "    <tr>\n",
       "      <th>1702</th>\n",
       "      <td>low</td>\n",
       "      <td>low</td>\n",
       "      <td>5more</td>\n",
       "      <td>2</td>\n",
       "      <td>small</td>\n",
       "      <td>high</td>\n",
       "      <td>unacc</td>\n",
       "    </tr>\n",
       "    <tr>\n",
       "      <th>1703</th>\n",
       "      <td>low</td>\n",
       "      <td>low</td>\n",
       "      <td>5more</td>\n",
       "      <td>2</td>\n",
       "      <td>med</td>\n",
       "      <td>low</td>\n",
       "      <td>unacc</td>\n",
       "    </tr>\n",
       "    <tr>\n",
       "      <th>1704</th>\n",
       "      <td>low</td>\n",
       "      <td>low</td>\n",
       "      <td>5more</td>\n",
       "      <td>2</td>\n",
       "      <td>med</td>\n",
       "      <td>med</td>\n",
       "      <td>unacc</td>\n",
       "    </tr>\n",
       "    <tr>\n",
       "      <th>1705</th>\n",
       "      <td>low</td>\n",
       "      <td>low</td>\n",
       "      <td>5more</td>\n",
       "      <td>2</td>\n",
       "      <td>med</td>\n",
       "      <td>high</td>\n",
       "      <td>unacc</td>\n",
       "    </tr>\n",
       "    <tr>\n",
       "      <th>1706</th>\n",
       "      <td>low</td>\n",
       "      <td>low</td>\n",
       "      <td>5more</td>\n",
       "      <td>2</td>\n",
       "      <td>big</td>\n",
       "      <td>low</td>\n",
       "      <td>unacc</td>\n",
       "    </tr>\n",
       "    <tr>\n",
       "      <th>1707</th>\n",
       "      <td>low</td>\n",
       "      <td>low</td>\n",
       "      <td>5more</td>\n",
       "      <td>2</td>\n",
       "      <td>big</td>\n",
       "      <td>med</td>\n",
       "      <td>unacc</td>\n",
       "    </tr>\n",
       "    <tr>\n",
       "      <th>1708</th>\n",
       "      <td>low</td>\n",
       "      <td>low</td>\n",
       "      <td>5more</td>\n",
       "      <td>2</td>\n",
       "      <td>big</td>\n",
       "      <td>high</td>\n",
       "      <td>unacc</td>\n",
       "    </tr>\n",
       "    <tr>\n",
       "      <th>1709</th>\n",
       "      <td>low</td>\n",
       "      <td>low</td>\n",
       "      <td>5more</td>\n",
       "      <td>4</td>\n",
       "      <td>small</td>\n",
       "      <td>low</td>\n",
       "      <td>unacc</td>\n",
       "    </tr>\n",
       "    <tr>\n",
       "      <th>1710</th>\n",
       "      <td>low</td>\n",
       "      <td>low</td>\n",
       "      <td>5more</td>\n",
       "      <td>4</td>\n",
       "      <td>small</td>\n",
       "      <td>med</td>\n",
       "      <td>acc</td>\n",
       "    </tr>\n",
       "    <tr>\n",
       "      <th>1711</th>\n",
       "      <td>low</td>\n",
       "      <td>low</td>\n",
       "      <td>5more</td>\n",
       "      <td>4</td>\n",
       "      <td>small</td>\n",
       "      <td>high</td>\n",
       "      <td>good</td>\n",
       "    </tr>\n",
       "    <tr>\n",
       "      <th>1712</th>\n",
       "      <td>low</td>\n",
       "      <td>low</td>\n",
       "      <td>5more</td>\n",
       "      <td>4</td>\n",
       "      <td>med</td>\n",
       "      <td>low</td>\n",
       "      <td>unacc</td>\n",
       "    </tr>\n",
       "    <tr>\n",
       "      <th>1713</th>\n",
       "      <td>low</td>\n",
       "      <td>low</td>\n",
       "      <td>5more</td>\n",
       "      <td>4</td>\n",
       "      <td>med</td>\n",
       "      <td>med</td>\n",
       "      <td>good</td>\n",
       "    </tr>\n",
       "    <tr>\n",
       "      <th>1714</th>\n",
       "      <td>low</td>\n",
       "      <td>low</td>\n",
       "      <td>5more</td>\n",
       "      <td>4</td>\n",
       "      <td>med</td>\n",
       "      <td>high</td>\n",
       "      <td>vgood</td>\n",
       "    </tr>\n",
       "    <tr>\n",
       "      <th>1715</th>\n",
       "      <td>low</td>\n",
       "      <td>low</td>\n",
       "      <td>5more</td>\n",
       "      <td>4</td>\n",
       "      <td>big</td>\n",
       "      <td>low</td>\n",
       "      <td>unacc</td>\n",
       "    </tr>\n",
       "    <tr>\n",
       "      <th>1716</th>\n",
       "      <td>low</td>\n",
       "      <td>low</td>\n",
       "      <td>5more</td>\n",
       "      <td>4</td>\n",
       "      <td>big</td>\n",
       "      <td>med</td>\n",
       "      <td>good</td>\n",
       "    </tr>\n",
       "    <tr>\n",
       "      <th>1717</th>\n",
       "      <td>low</td>\n",
       "      <td>low</td>\n",
       "      <td>5more</td>\n",
       "      <td>4</td>\n",
       "      <td>big</td>\n",
       "      <td>high</td>\n",
       "      <td>vgood</td>\n",
       "    </tr>\n",
       "    <tr>\n",
       "      <th>1718</th>\n",
       "      <td>low</td>\n",
       "      <td>low</td>\n",
       "      <td>5more</td>\n",
       "      <td>more</td>\n",
       "      <td>small</td>\n",
       "      <td>low</td>\n",
       "      <td>unacc</td>\n",
       "    </tr>\n",
       "    <tr>\n",
       "      <th>1719</th>\n",
       "      <td>low</td>\n",
       "      <td>low</td>\n",
       "      <td>5more</td>\n",
       "      <td>more</td>\n",
       "      <td>small</td>\n",
       "      <td>med</td>\n",
       "      <td>acc</td>\n",
       "    </tr>\n",
       "    <tr>\n",
       "      <th>1720</th>\n",
       "      <td>low</td>\n",
       "      <td>low</td>\n",
       "      <td>5more</td>\n",
       "      <td>more</td>\n",
       "      <td>small</td>\n",
       "      <td>high</td>\n",
       "      <td>good</td>\n",
       "    </tr>\n",
       "    <tr>\n",
       "      <th>1721</th>\n",
       "      <td>low</td>\n",
       "      <td>low</td>\n",
       "      <td>5more</td>\n",
       "      <td>more</td>\n",
       "      <td>med</td>\n",
       "      <td>low</td>\n",
       "      <td>unacc</td>\n",
       "    </tr>\n",
       "    <tr>\n",
       "      <th>1722</th>\n",
       "      <td>low</td>\n",
       "      <td>low</td>\n",
       "      <td>5more</td>\n",
       "      <td>more</td>\n",
       "      <td>med</td>\n",
       "      <td>med</td>\n",
       "      <td>good</td>\n",
       "    </tr>\n",
       "    <tr>\n",
       "      <th>1723</th>\n",
       "      <td>low</td>\n",
       "      <td>low</td>\n",
       "      <td>5more</td>\n",
       "      <td>more</td>\n",
       "      <td>med</td>\n",
       "      <td>high</td>\n",
       "      <td>vgood</td>\n",
       "    </tr>\n",
       "    <tr>\n",
       "      <th>1724</th>\n",
       "      <td>low</td>\n",
       "      <td>low</td>\n",
       "      <td>5more</td>\n",
       "      <td>more</td>\n",
       "      <td>big</td>\n",
       "      <td>low</td>\n",
       "      <td>unacc</td>\n",
       "    </tr>\n",
       "    <tr>\n",
       "      <th>1725</th>\n",
       "      <td>low</td>\n",
       "      <td>low</td>\n",
       "      <td>5more</td>\n",
       "      <td>more</td>\n",
       "      <td>big</td>\n",
       "      <td>med</td>\n",
       "      <td>good</td>\n",
       "    </tr>\n",
       "    <tr>\n",
       "      <th>1726</th>\n",
       "      <td>low</td>\n",
       "      <td>low</td>\n",
       "      <td>5more</td>\n",
       "      <td>more</td>\n",
       "      <td>big</td>\n",
       "      <td>high</td>\n",
       "      <td>vgood</td>\n",
       "    </tr>\n",
       "  </tbody>\n",
       "</table>\n",
       "<p>1727 rows × 7 columns</p>\n",
       "</div>"
      ],
      "text/plain": [
       "      vhigh vhigh.1      2   2.1  small   low  unacc\n",
       "0     vhigh   vhigh      2     2  small   med  unacc\n",
       "1     vhigh   vhigh      2     2  small  high  unacc\n",
       "2     vhigh   vhigh      2     2    med   low  unacc\n",
       "3     vhigh   vhigh      2     2    med   med  unacc\n",
       "4     vhigh   vhigh      2     2    med  high  unacc\n",
       "5     vhigh   vhigh      2     2    big   low  unacc\n",
       "6     vhigh   vhigh      2     2    big   med  unacc\n",
       "7     vhigh   vhigh      2     2    big  high  unacc\n",
       "8     vhigh   vhigh      2     4  small   low  unacc\n",
       "9     vhigh   vhigh      2     4  small   med  unacc\n",
       "10    vhigh   vhigh      2     4  small  high  unacc\n",
       "11    vhigh   vhigh      2     4    med   low  unacc\n",
       "12    vhigh   vhigh      2     4    med   med  unacc\n",
       "13    vhigh   vhigh      2     4    med  high  unacc\n",
       "14    vhigh   vhigh      2     4    big   low  unacc\n",
       "15    vhigh   vhigh      2     4    big   med  unacc\n",
       "16    vhigh   vhigh      2     4    big  high  unacc\n",
       "17    vhigh   vhigh      2  more  small   low  unacc\n",
       "18    vhigh   vhigh      2  more  small   med  unacc\n",
       "19    vhigh   vhigh      2  more  small  high  unacc\n",
       "20    vhigh   vhigh      2  more    med   low  unacc\n",
       "21    vhigh   vhigh      2  more    med   med  unacc\n",
       "22    vhigh   vhigh      2  more    med  high  unacc\n",
       "23    vhigh   vhigh      2  more    big   low  unacc\n",
       "24    vhigh   vhigh      2  more    big   med  unacc\n",
       "25    vhigh   vhigh      2  more    big  high  unacc\n",
       "26    vhigh   vhigh      3     2  small   low  unacc\n",
       "27    vhigh   vhigh      3     2  small   med  unacc\n",
       "28    vhigh   vhigh      3     2  small  high  unacc\n",
       "29    vhigh   vhigh      3     2    med   low  unacc\n",
       "...     ...     ...    ...   ...    ...   ...    ...\n",
       "1697    low     low      4  more    big   low  unacc\n",
       "1698    low     low      4  more    big   med   good\n",
       "1699    low     low      4  more    big  high  vgood\n",
       "1700    low     low  5more     2  small   low  unacc\n",
       "1701    low     low  5more     2  small   med  unacc\n",
       "1702    low     low  5more     2  small  high  unacc\n",
       "1703    low     low  5more     2    med   low  unacc\n",
       "1704    low     low  5more     2    med   med  unacc\n",
       "1705    low     low  5more     2    med  high  unacc\n",
       "1706    low     low  5more     2    big   low  unacc\n",
       "1707    low     low  5more     2    big   med  unacc\n",
       "1708    low     low  5more     2    big  high  unacc\n",
       "1709    low     low  5more     4  small   low  unacc\n",
       "1710    low     low  5more     4  small   med    acc\n",
       "1711    low     low  5more     4  small  high   good\n",
       "1712    low     low  5more     4    med   low  unacc\n",
       "1713    low     low  5more     4    med   med   good\n",
       "1714    low     low  5more     4    med  high  vgood\n",
       "1715    low     low  5more     4    big   low  unacc\n",
       "1716    low     low  5more     4    big   med   good\n",
       "1717    low     low  5more     4    big  high  vgood\n",
       "1718    low     low  5more  more  small   low  unacc\n",
       "1719    low     low  5more  more  small   med    acc\n",
       "1720    low     low  5more  more  small  high   good\n",
       "1721    low     low  5more  more    med   low  unacc\n",
       "1722    low     low  5more  more    med   med   good\n",
       "1723    low     low  5more  more    med  high  vgood\n",
       "1724    low     low  5more  more    big   low  unacc\n",
       "1725    low     low  5more  more    big   med   good\n",
       "1726    low     low  5more  more    big  high  vgood\n",
       "\n",
       "[1727 rows x 7 columns]"
      ]
     },
     "execution_count": 5,
     "metadata": {},
     "output_type": "execute_result"
    }
   ],
   "source": [
    "cars"
   ]
  },
  {
   "cell_type": "code",
   "execution_count": 6,
   "metadata": {},
   "outputs": [],
   "source": [
    "cars.columns = [\"price\",\"maint\",\"No_of_doors\",\"capacity\",\"lug_boot\",\"safety\",\"class_values\"]"
   ]
  },
  {
   "cell_type": "code",
   "execution_count": 7,
   "metadata": {},
   "outputs": [
    {
     "data": {
      "text/html": [
       "<div>\n",
       "<style scoped>\n",
       "    .dataframe tbody tr th:only-of-type {\n",
       "        vertical-align: middle;\n",
       "    }\n",
       "\n",
       "    .dataframe tbody tr th {\n",
       "        vertical-align: top;\n",
       "    }\n",
       "\n",
       "    .dataframe thead th {\n",
       "        text-align: right;\n",
       "    }\n",
       "</style>\n",
       "<table border=\"1\" class=\"dataframe\">\n",
       "  <thead>\n",
       "    <tr style=\"text-align: right;\">\n",
       "      <th></th>\n",
       "      <th>price</th>\n",
       "      <th>maint</th>\n",
       "      <th>No_of_doors</th>\n",
       "      <th>capacity</th>\n",
       "      <th>lug_boot</th>\n",
       "      <th>safety</th>\n",
       "      <th>class_values</th>\n",
       "    </tr>\n",
       "  </thead>\n",
       "  <tbody>\n",
       "    <tr>\n",
       "      <th>0</th>\n",
       "      <td>vhigh</td>\n",
       "      <td>vhigh</td>\n",
       "      <td>2</td>\n",
       "      <td>2</td>\n",
       "      <td>small</td>\n",
       "      <td>med</td>\n",
       "      <td>unacc</td>\n",
       "    </tr>\n",
       "    <tr>\n",
       "      <th>1</th>\n",
       "      <td>vhigh</td>\n",
       "      <td>vhigh</td>\n",
       "      <td>2</td>\n",
       "      <td>2</td>\n",
       "      <td>small</td>\n",
       "      <td>high</td>\n",
       "      <td>unacc</td>\n",
       "    </tr>\n",
       "    <tr>\n",
       "      <th>2</th>\n",
       "      <td>vhigh</td>\n",
       "      <td>vhigh</td>\n",
       "      <td>2</td>\n",
       "      <td>2</td>\n",
       "      <td>med</td>\n",
       "      <td>low</td>\n",
       "      <td>unacc</td>\n",
       "    </tr>\n",
       "    <tr>\n",
       "      <th>3</th>\n",
       "      <td>vhigh</td>\n",
       "      <td>vhigh</td>\n",
       "      <td>2</td>\n",
       "      <td>2</td>\n",
       "      <td>med</td>\n",
       "      <td>med</td>\n",
       "      <td>unacc</td>\n",
       "    </tr>\n",
       "    <tr>\n",
       "      <th>4</th>\n",
       "      <td>vhigh</td>\n",
       "      <td>vhigh</td>\n",
       "      <td>2</td>\n",
       "      <td>2</td>\n",
       "      <td>med</td>\n",
       "      <td>high</td>\n",
       "      <td>unacc</td>\n",
       "    </tr>\n",
       "    <tr>\n",
       "      <th>5</th>\n",
       "      <td>vhigh</td>\n",
       "      <td>vhigh</td>\n",
       "      <td>2</td>\n",
       "      <td>2</td>\n",
       "      <td>big</td>\n",
       "      <td>low</td>\n",
       "      <td>unacc</td>\n",
       "    </tr>\n",
       "    <tr>\n",
       "      <th>6</th>\n",
       "      <td>vhigh</td>\n",
       "      <td>vhigh</td>\n",
       "      <td>2</td>\n",
       "      <td>2</td>\n",
       "      <td>big</td>\n",
       "      <td>med</td>\n",
       "      <td>unacc</td>\n",
       "    </tr>\n",
       "    <tr>\n",
       "      <th>7</th>\n",
       "      <td>vhigh</td>\n",
       "      <td>vhigh</td>\n",
       "      <td>2</td>\n",
       "      <td>2</td>\n",
       "      <td>big</td>\n",
       "      <td>high</td>\n",
       "      <td>unacc</td>\n",
       "    </tr>\n",
       "    <tr>\n",
       "      <th>8</th>\n",
       "      <td>vhigh</td>\n",
       "      <td>vhigh</td>\n",
       "      <td>2</td>\n",
       "      <td>4</td>\n",
       "      <td>small</td>\n",
       "      <td>low</td>\n",
       "      <td>unacc</td>\n",
       "    </tr>\n",
       "    <tr>\n",
       "      <th>9</th>\n",
       "      <td>vhigh</td>\n",
       "      <td>vhigh</td>\n",
       "      <td>2</td>\n",
       "      <td>4</td>\n",
       "      <td>small</td>\n",
       "      <td>med</td>\n",
       "      <td>unacc</td>\n",
       "    </tr>\n",
       "    <tr>\n",
       "      <th>10</th>\n",
       "      <td>vhigh</td>\n",
       "      <td>vhigh</td>\n",
       "      <td>2</td>\n",
       "      <td>4</td>\n",
       "      <td>small</td>\n",
       "      <td>high</td>\n",
       "      <td>unacc</td>\n",
       "    </tr>\n",
       "    <tr>\n",
       "      <th>11</th>\n",
       "      <td>vhigh</td>\n",
       "      <td>vhigh</td>\n",
       "      <td>2</td>\n",
       "      <td>4</td>\n",
       "      <td>med</td>\n",
       "      <td>low</td>\n",
       "      <td>unacc</td>\n",
       "    </tr>\n",
       "    <tr>\n",
       "      <th>12</th>\n",
       "      <td>vhigh</td>\n",
       "      <td>vhigh</td>\n",
       "      <td>2</td>\n",
       "      <td>4</td>\n",
       "      <td>med</td>\n",
       "      <td>med</td>\n",
       "      <td>unacc</td>\n",
       "    </tr>\n",
       "    <tr>\n",
       "      <th>13</th>\n",
       "      <td>vhigh</td>\n",
       "      <td>vhigh</td>\n",
       "      <td>2</td>\n",
       "      <td>4</td>\n",
       "      <td>med</td>\n",
       "      <td>high</td>\n",
       "      <td>unacc</td>\n",
       "    </tr>\n",
       "    <tr>\n",
       "      <th>14</th>\n",
       "      <td>vhigh</td>\n",
       "      <td>vhigh</td>\n",
       "      <td>2</td>\n",
       "      <td>4</td>\n",
       "      <td>big</td>\n",
       "      <td>low</td>\n",
       "      <td>unacc</td>\n",
       "    </tr>\n",
       "    <tr>\n",
       "      <th>15</th>\n",
       "      <td>vhigh</td>\n",
       "      <td>vhigh</td>\n",
       "      <td>2</td>\n",
       "      <td>4</td>\n",
       "      <td>big</td>\n",
       "      <td>med</td>\n",
       "      <td>unacc</td>\n",
       "    </tr>\n",
       "    <tr>\n",
       "      <th>16</th>\n",
       "      <td>vhigh</td>\n",
       "      <td>vhigh</td>\n",
       "      <td>2</td>\n",
       "      <td>4</td>\n",
       "      <td>big</td>\n",
       "      <td>high</td>\n",
       "      <td>unacc</td>\n",
       "    </tr>\n",
       "    <tr>\n",
       "      <th>17</th>\n",
       "      <td>vhigh</td>\n",
       "      <td>vhigh</td>\n",
       "      <td>2</td>\n",
       "      <td>more</td>\n",
       "      <td>small</td>\n",
       "      <td>low</td>\n",
       "      <td>unacc</td>\n",
       "    </tr>\n",
       "    <tr>\n",
       "      <th>18</th>\n",
       "      <td>vhigh</td>\n",
       "      <td>vhigh</td>\n",
       "      <td>2</td>\n",
       "      <td>more</td>\n",
       "      <td>small</td>\n",
       "      <td>med</td>\n",
       "      <td>unacc</td>\n",
       "    </tr>\n",
       "    <tr>\n",
       "      <th>19</th>\n",
       "      <td>vhigh</td>\n",
       "      <td>vhigh</td>\n",
       "      <td>2</td>\n",
       "      <td>more</td>\n",
       "      <td>small</td>\n",
       "      <td>high</td>\n",
       "      <td>unacc</td>\n",
       "    </tr>\n",
       "    <tr>\n",
       "      <th>20</th>\n",
       "      <td>vhigh</td>\n",
       "      <td>vhigh</td>\n",
       "      <td>2</td>\n",
       "      <td>more</td>\n",
       "      <td>med</td>\n",
       "      <td>low</td>\n",
       "      <td>unacc</td>\n",
       "    </tr>\n",
       "    <tr>\n",
       "      <th>21</th>\n",
       "      <td>vhigh</td>\n",
       "      <td>vhigh</td>\n",
       "      <td>2</td>\n",
       "      <td>more</td>\n",
       "      <td>med</td>\n",
       "      <td>med</td>\n",
       "      <td>unacc</td>\n",
       "    </tr>\n",
       "    <tr>\n",
       "      <th>22</th>\n",
       "      <td>vhigh</td>\n",
       "      <td>vhigh</td>\n",
       "      <td>2</td>\n",
       "      <td>more</td>\n",
       "      <td>med</td>\n",
       "      <td>high</td>\n",
       "      <td>unacc</td>\n",
       "    </tr>\n",
       "    <tr>\n",
       "      <th>23</th>\n",
       "      <td>vhigh</td>\n",
       "      <td>vhigh</td>\n",
       "      <td>2</td>\n",
       "      <td>more</td>\n",
       "      <td>big</td>\n",
       "      <td>low</td>\n",
       "      <td>unacc</td>\n",
       "    </tr>\n",
       "    <tr>\n",
       "      <th>24</th>\n",
       "      <td>vhigh</td>\n",
       "      <td>vhigh</td>\n",
       "      <td>2</td>\n",
       "      <td>more</td>\n",
       "      <td>big</td>\n",
       "      <td>med</td>\n",
       "      <td>unacc</td>\n",
       "    </tr>\n",
       "    <tr>\n",
       "      <th>25</th>\n",
       "      <td>vhigh</td>\n",
       "      <td>vhigh</td>\n",
       "      <td>2</td>\n",
       "      <td>more</td>\n",
       "      <td>big</td>\n",
       "      <td>high</td>\n",
       "      <td>unacc</td>\n",
       "    </tr>\n",
       "    <tr>\n",
       "      <th>26</th>\n",
       "      <td>vhigh</td>\n",
       "      <td>vhigh</td>\n",
       "      <td>3</td>\n",
       "      <td>2</td>\n",
       "      <td>small</td>\n",
       "      <td>low</td>\n",
       "      <td>unacc</td>\n",
       "    </tr>\n",
       "    <tr>\n",
       "      <th>27</th>\n",
       "      <td>vhigh</td>\n",
       "      <td>vhigh</td>\n",
       "      <td>3</td>\n",
       "      <td>2</td>\n",
       "      <td>small</td>\n",
       "      <td>med</td>\n",
       "      <td>unacc</td>\n",
       "    </tr>\n",
       "    <tr>\n",
       "      <th>28</th>\n",
       "      <td>vhigh</td>\n",
       "      <td>vhigh</td>\n",
       "      <td>3</td>\n",
       "      <td>2</td>\n",
       "      <td>small</td>\n",
       "      <td>high</td>\n",
       "      <td>unacc</td>\n",
       "    </tr>\n",
       "    <tr>\n",
       "      <th>29</th>\n",
       "      <td>vhigh</td>\n",
       "      <td>vhigh</td>\n",
       "      <td>3</td>\n",
       "      <td>2</td>\n",
       "      <td>med</td>\n",
       "      <td>low</td>\n",
       "      <td>unacc</td>\n",
       "    </tr>\n",
       "    <tr>\n",
       "      <th>...</th>\n",
       "      <td>...</td>\n",
       "      <td>...</td>\n",
       "      <td>...</td>\n",
       "      <td>...</td>\n",
       "      <td>...</td>\n",
       "      <td>...</td>\n",
       "      <td>...</td>\n",
       "    </tr>\n",
       "    <tr>\n",
       "      <th>1697</th>\n",
       "      <td>low</td>\n",
       "      <td>low</td>\n",
       "      <td>4</td>\n",
       "      <td>more</td>\n",
       "      <td>big</td>\n",
       "      <td>low</td>\n",
       "      <td>unacc</td>\n",
       "    </tr>\n",
       "    <tr>\n",
       "      <th>1698</th>\n",
       "      <td>low</td>\n",
       "      <td>low</td>\n",
       "      <td>4</td>\n",
       "      <td>more</td>\n",
       "      <td>big</td>\n",
       "      <td>med</td>\n",
       "      <td>good</td>\n",
       "    </tr>\n",
       "    <tr>\n",
       "      <th>1699</th>\n",
       "      <td>low</td>\n",
       "      <td>low</td>\n",
       "      <td>4</td>\n",
       "      <td>more</td>\n",
       "      <td>big</td>\n",
       "      <td>high</td>\n",
       "      <td>vgood</td>\n",
       "    </tr>\n",
       "    <tr>\n",
       "      <th>1700</th>\n",
       "      <td>low</td>\n",
       "      <td>low</td>\n",
       "      <td>5more</td>\n",
       "      <td>2</td>\n",
       "      <td>small</td>\n",
       "      <td>low</td>\n",
       "      <td>unacc</td>\n",
       "    </tr>\n",
       "    <tr>\n",
       "      <th>1701</th>\n",
       "      <td>low</td>\n",
       "      <td>low</td>\n",
       "      <td>5more</td>\n",
       "      <td>2</td>\n",
       "      <td>small</td>\n",
       "      <td>med</td>\n",
       "      <td>unacc</td>\n",
       "    </tr>\n",
       "    <tr>\n",
       "      <th>1702</th>\n",
       "      <td>low</td>\n",
       "      <td>low</td>\n",
       "      <td>5more</td>\n",
       "      <td>2</td>\n",
       "      <td>small</td>\n",
       "      <td>high</td>\n",
       "      <td>unacc</td>\n",
       "    </tr>\n",
       "    <tr>\n",
       "      <th>1703</th>\n",
       "      <td>low</td>\n",
       "      <td>low</td>\n",
       "      <td>5more</td>\n",
       "      <td>2</td>\n",
       "      <td>med</td>\n",
       "      <td>low</td>\n",
       "      <td>unacc</td>\n",
       "    </tr>\n",
       "    <tr>\n",
       "      <th>1704</th>\n",
       "      <td>low</td>\n",
       "      <td>low</td>\n",
       "      <td>5more</td>\n",
       "      <td>2</td>\n",
       "      <td>med</td>\n",
       "      <td>med</td>\n",
       "      <td>unacc</td>\n",
       "    </tr>\n",
       "    <tr>\n",
       "      <th>1705</th>\n",
       "      <td>low</td>\n",
       "      <td>low</td>\n",
       "      <td>5more</td>\n",
       "      <td>2</td>\n",
       "      <td>med</td>\n",
       "      <td>high</td>\n",
       "      <td>unacc</td>\n",
       "    </tr>\n",
       "    <tr>\n",
       "      <th>1706</th>\n",
       "      <td>low</td>\n",
       "      <td>low</td>\n",
       "      <td>5more</td>\n",
       "      <td>2</td>\n",
       "      <td>big</td>\n",
       "      <td>low</td>\n",
       "      <td>unacc</td>\n",
       "    </tr>\n",
       "    <tr>\n",
       "      <th>1707</th>\n",
       "      <td>low</td>\n",
       "      <td>low</td>\n",
       "      <td>5more</td>\n",
       "      <td>2</td>\n",
       "      <td>big</td>\n",
       "      <td>med</td>\n",
       "      <td>unacc</td>\n",
       "    </tr>\n",
       "    <tr>\n",
       "      <th>1708</th>\n",
       "      <td>low</td>\n",
       "      <td>low</td>\n",
       "      <td>5more</td>\n",
       "      <td>2</td>\n",
       "      <td>big</td>\n",
       "      <td>high</td>\n",
       "      <td>unacc</td>\n",
       "    </tr>\n",
       "    <tr>\n",
       "      <th>1709</th>\n",
       "      <td>low</td>\n",
       "      <td>low</td>\n",
       "      <td>5more</td>\n",
       "      <td>4</td>\n",
       "      <td>small</td>\n",
       "      <td>low</td>\n",
       "      <td>unacc</td>\n",
       "    </tr>\n",
       "    <tr>\n",
       "      <th>1710</th>\n",
       "      <td>low</td>\n",
       "      <td>low</td>\n",
       "      <td>5more</td>\n",
       "      <td>4</td>\n",
       "      <td>small</td>\n",
       "      <td>med</td>\n",
       "      <td>acc</td>\n",
       "    </tr>\n",
       "    <tr>\n",
       "      <th>1711</th>\n",
       "      <td>low</td>\n",
       "      <td>low</td>\n",
       "      <td>5more</td>\n",
       "      <td>4</td>\n",
       "      <td>small</td>\n",
       "      <td>high</td>\n",
       "      <td>good</td>\n",
       "    </tr>\n",
       "    <tr>\n",
       "      <th>1712</th>\n",
       "      <td>low</td>\n",
       "      <td>low</td>\n",
       "      <td>5more</td>\n",
       "      <td>4</td>\n",
       "      <td>med</td>\n",
       "      <td>low</td>\n",
       "      <td>unacc</td>\n",
       "    </tr>\n",
       "    <tr>\n",
       "      <th>1713</th>\n",
       "      <td>low</td>\n",
       "      <td>low</td>\n",
       "      <td>5more</td>\n",
       "      <td>4</td>\n",
       "      <td>med</td>\n",
       "      <td>med</td>\n",
       "      <td>good</td>\n",
       "    </tr>\n",
       "    <tr>\n",
       "      <th>1714</th>\n",
       "      <td>low</td>\n",
       "      <td>low</td>\n",
       "      <td>5more</td>\n",
       "      <td>4</td>\n",
       "      <td>med</td>\n",
       "      <td>high</td>\n",
       "      <td>vgood</td>\n",
       "    </tr>\n",
       "    <tr>\n",
       "      <th>1715</th>\n",
       "      <td>low</td>\n",
       "      <td>low</td>\n",
       "      <td>5more</td>\n",
       "      <td>4</td>\n",
       "      <td>big</td>\n",
       "      <td>low</td>\n",
       "      <td>unacc</td>\n",
       "    </tr>\n",
       "    <tr>\n",
       "      <th>1716</th>\n",
       "      <td>low</td>\n",
       "      <td>low</td>\n",
       "      <td>5more</td>\n",
       "      <td>4</td>\n",
       "      <td>big</td>\n",
       "      <td>med</td>\n",
       "      <td>good</td>\n",
       "    </tr>\n",
       "    <tr>\n",
       "      <th>1717</th>\n",
       "      <td>low</td>\n",
       "      <td>low</td>\n",
       "      <td>5more</td>\n",
       "      <td>4</td>\n",
       "      <td>big</td>\n",
       "      <td>high</td>\n",
       "      <td>vgood</td>\n",
       "    </tr>\n",
       "    <tr>\n",
       "      <th>1718</th>\n",
       "      <td>low</td>\n",
       "      <td>low</td>\n",
       "      <td>5more</td>\n",
       "      <td>more</td>\n",
       "      <td>small</td>\n",
       "      <td>low</td>\n",
       "      <td>unacc</td>\n",
       "    </tr>\n",
       "    <tr>\n",
       "      <th>1719</th>\n",
       "      <td>low</td>\n",
       "      <td>low</td>\n",
       "      <td>5more</td>\n",
       "      <td>more</td>\n",
       "      <td>small</td>\n",
       "      <td>med</td>\n",
       "      <td>acc</td>\n",
       "    </tr>\n",
       "    <tr>\n",
       "      <th>1720</th>\n",
       "      <td>low</td>\n",
       "      <td>low</td>\n",
       "      <td>5more</td>\n",
       "      <td>more</td>\n",
       "      <td>small</td>\n",
       "      <td>high</td>\n",
       "      <td>good</td>\n",
       "    </tr>\n",
       "    <tr>\n",
       "      <th>1721</th>\n",
       "      <td>low</td>\n",
       "      <td>low</td>\n",
       "      <td>5more</td>\n",
       "      <td>more</td>\n",
       "      <td>med</td>\n",
       "      <td>low</td>\n",
       "      <td>unacc</td>\n",
       "    </tr>\n",
       "    <tr>\n",
       "      <th>1722</th>\n",
       "      <td>low</td>\n",
       "      <td>low</td>\n",
       "      <td>5more</td>\n",
       "      <td>more</td>\n",
       "      <td>med</td>\n",
       "      <td>med</td>\n",
       "      <td>good</td>\n",
       "    </tr>\n",
       "    <tr>\n",
       "      <th>1723</th>\n",
       "      <td>low</td>\n",
       "      <td>low</td>\n",
       "      <td>5more</td>\n",
       "      <td>more</td>\n",
       "      <td>med</td>\n",
       "      <td>high</td>\n",
       "      <td>vgood</td>\n",
       "    </tr>\n",
       "    <tr>\n",
       "      <th>1724</th>\n",
       "      <td>low</td>\n",
       "      <td>low</td>\n",
       "      <td>5more</td>\n",
       "      <td>more</td>\n",
       "      <td>big</td>\n",
       "      <td>low</td>\n",
       "      <td>unacc</td>\n",
       "    </tr>\n",
       "    <tr>\n",
       "      <th>1725</th>\n",
       "      <td>low</td>\n",
       "      <td>low</td>\n",
       "      <td>5more</td>\n",
       "      <td>more</td>\n",
       "      <td>big</td>\n",
       "      <td>med</td>\n",
       "      <td>good</td>\n",
       "    </tr>\n",
       "    <tr>\n",
       "      <th>1726</th>\n",
       "      <td>low</td>\n",
       "      <td>low</td>\n",
       "      <td>5more</td>\n",
       "      <td>more</td>\n",
       "      <td>big</td>\n",
       "      <td>high</td>\n",
       "      <td>vgood</td>\n",
       "    </tr>\n",
       "  </tbody>\n",
       "</table>\n",
       "<p>1727 rows × 7 columns</p>\n",
       "</div>"
      ],
      "text/plain": [
       "      price  maint No_of_doors capacity lug_boot safety class_values\n",
       "0     vhigh  vhigh           2        2    small    med        unacc\n",
       "1     vhigh  vhigh           2        2    small   high        unacc\n",
       "2     vhigh  vhigh           2        2      med    low        unacc\n",
       "3     vhigh  vhigh           2        2      med    med        unacc\n",
       "4     vhigh  vhigh           2        2      med   high        unacc\n",
       "5     vhigh  vhigh           2        2      big    low        unacc\n",
       "6     vhigh  vhigh           2        2      big    med        unacc\n",
       "7     vhigh  vhigh           2        2      big   high        unacc\n",
       "8     vhigh  vhigh           2        4    small    low        unacc\n",
       "9     vhigh  vhigh           2        4    small    med        unacc\n",
       "10    vhigh  vhigh           2        4    small   high        unacc\n",
       "11    vhigh  vhigh           2        4      med    low        unacc\n",
       "12    vhigh  vhigh           2        4      med    med        unacc\n",
       "13    vhigh  vhigh           2        4      med   high        unacc\n",
       "14    vhigh  vhigh           2        4      big    low        unacc\n",
       "15    vhigh  vhigh           2        4      big    med        unacc\n",
       "16    vhigh  vhigh           2        4      big   high        unacc\n",
       "17    vhigh  vhigh           2     more    small    low        unacc\n",
       "18    vhigh  vhigh           2     more    small    med        unacc\n",
       "19    vhigh  vhigh           2     more    small   high        unacc\n",
       "20    vhigh  vhigh           2     more      med    low        unacc\n",
       "21    vhigh  vhigh           2     more      med    med        unacc\n",
       "22    vhigh  vhigh           2     more      med   high        unacc\n",
       "23    vhigh  vhigh           2     more      big    low        unacc\n",
       "24    vhigh  vhigh           2     more      big    med        unacc\n",
       "25    vhigh  vhigh           2     more      big   high        unacc\n",
       "26    vhigh  vhigh           3        2    small    low        unacc\n",
       "27    vhigh  vhigh           3        2    small    med        unacc\n",
       "28    vhigh  vhigh           3        2    small   high        unacc\n",
       "29    vhigh  vhigh           3        2      med    low        unacc\n",
       "...     ...    ...         ...      ...      ...    ...          ...\n",
       "1697    low    low           4     more      big    low        unacc\n",
       "1698    low    low           4     more      big    med         good\n",
       "1699    low    low           4     more      big   high        vgood\n",
       "1700    low    low       5more        2    small    low        unacc\n",
       "1701    low    low       5more        2    small    med        unacc\n",
       "1702    low    low       5more        2    small   high        unacc\n",
       "1703    low    low       5more        2      med    low        unacc\n",
       "1704    low    low       5more        2      med    med        unacc\n",
       "1705    low    low       5more        2      med   high        unacc\n",
       "1706    low    low       5more        2      big    low        unacc\n",
       "1707    low    low       5more        2      big    med        unacc\n",
       "1708    low    low       5more        2      big   high        unacc\n",
       "1709    low    low       5more        4    small    low        unacc\n",
       "1710    low    low       5more        4    small    med          acc\n",
       "1711    low    low       5more        4    small   high         good\n",
       "1712    low    low       5more        4      med    low        unacc\n",
       "1713    low    low       5more        4      med    med         good\n",
       "1714    low    low       5more        4      med   high        vgood\n",
       "1715    low    low       5more        4      big    low        unacc\n",
       "1716    low    low       5more        4      big    med         good\n",
       "1717    low    low       5more        4      big   high        vgood\n",
       "1718    low    low       5more     more    small    low        unacc\n",
       "1719    low    low       5more     more    small    med          acc\n",
       "1720    low    low       5more     more    small   high         good\n",
       "1721    low    low       5more     more      med    low        unacc\n",
       "1722    low    low       5more     more      med    med         good\n",
       "1723    low    low       5more     more      med   high        vgood\n",
       "1724    low    low       5more     more      big    low        unacc\n",
       "1725    low    low       5more     more      big    med         good\n",
       "1726    low    low       5more     more      big   high        vgood\n",
       "\n",
       "[1727 rows x 7 columns]"
      ]
     },
     "execution_count": 7,
     "metadata": {},
     "output_type": "execute_result"
    }
   ],
   "source": [
    "cars"
   ]
  },
  {
   "cell_type": "code",
   "execution_count": 8,
   "metadata": {},
   "outputs": [
    {
     "data": {
      "text/plain": [
       "price           object\n",
       "maint           object\n",
       "No_of_doors     object\n",
       "capacity        object\n",
       "lug_boot        object\n",
       "safety          object\n",
       "class_values    object\n",
       "dtype: object"
      ]
     },
     "execution_count": 8,
     "metadata": {},
     "output_type": "execute_result"
    }
   ],
   "source": [
    "cars.dtypes"
   ]
  },
  {
   "cell_type": "code",
   "execution_count": 9,
   "metadata": {},
   "outputs": [
    {
     "data": {
      "text/plain": [
       "0       unacc\n",
       "1       unacc\n",
       "2       unacc\n",
       "3       unacc\n",
       "4       unacc\n",
       "5       unacc\n",
       "6       unacc\n",
       "7       unacc\n",
       "8       unacc\n",
       "9       unacc\n",
       "10      unacc\n",
       "11      unacc\n",
       "12      unacc\n",
       "13      unacc\n",
       "14      unacc\n",
       "15      unacc\n",
       "16      unacc\n",
       "17      unacc\n",
       "18      unacc\n",
       "19      unacc\n",
       "20      unacc\n",
       "21      unacc\n",
       "22      unacc\n",
       "23      unacc\n",
       "24      unacc\n",
       "25      unacc\n",
       "26      unacc\n",
       "27      unacc\n",
       "28      unacc\n",
       "29      unacc\n",
       "        ...  \n",
       "1697    unacc\n",
       "1698     good\n",
       "1699    vgood\n",
       "1700    unacc\n",
       "1701    unacc\n",
       "1702    unacc\n",
       "1703    unacc\n",
       "1704    unacc\n",
       "1705    unacc\n",
       "1706    unacc\n",
       "1707    unacc\n",
       "1708    unacc\n",
       "1709    unacc\n",
       "1710      acc\n",
       "1711     good\n",
       "1712    unacc\n",
       "1713     good\n",
       "1714    vgood\n",
       "1715    unacc\n",
       "1716     good\n",
       "1717    vgood\n",
       "1718    unacc\n",
       "1719      acc\n",
       "1720     good\n",
       "1721    unacc\n",
       "1722     good\n",
       "1723    vgood\n",
       "1724    unacc\n",
       "1725     good\n",
       "1726    vgood\n",
       "Name: class_values, Length: 1727, dtype: object"
      ]
     },
     "execution_count": 9,
     "metadata": {},
     "output_type": "execute_result"
    }
   ],
   "source": [
    "cars.class_values"
   ]
  },
  {
   "cell_type": "code",
   "execution_count": 10,
   "metadata": {},
   "outputs": [
    {
     "data": {
      "text/plain": [
       "(1727L,)"
      ]
     },
     "execution_count": 10,
     "metadata": {},
     "output_type": "execute_result"
    }
   ],
   "source": [
    "cars.class_values.shape"
   ]
  },
  {
   "cell_type": "code",
   "execution_count": 11,
   "metadata": {},
   "outputs": [
    {
     "name": "stdout",
     "output_type": "stream",
     "text": [
      "('dataframe.describe: ',        price maint No_of_doors capacity lug_boot safety class_values\n",
      "count   1727  1727        1727     1727     1727   1727         1727\n",
      "unique     4     4           4        3        3      3            4\n",
      "top      med   med           3     more      med    med        unacc\n",
      "freq     432   432         432      576      576    576         1209)\n"
     ]
    }
   ],
   "source": [
    "print(\"dataframe.describe: \", cars.describe())"
   ]
  },
  {
   "cell_type": "code",
   "execution_count": 12,
   "metadata": {},
   "outputs": [
    {
     "name": "stdout",
     "output_type": "stream",
     "text": [
      "<class 'pandas.core.frame.DataFrame'>\n",
      "RangeIndex: 1727 entries, 0 to 1726\n",
      "Data columns (total 7 columns):\n",
      "price           1727 non-null object\n",
      "maint           1727 non-null object\n",
      "No_of_doors     1727 non-null object\n",
      "capacity        1727 non-null object\n",
      "lug_boot        1727 non-null object\n",
      "safety          1727 non-null object\n",
      "class_values    1727 non-null object\n",
      "dtypes: object(7)\n",
      "memory usage: 94.5+ KB\n"
     ]
    }
   ],
   "source": [
    "cars.info()"
   ]
  },
  {
   "cell_type": "markdown",
   "metadata": {},
   "source": [
    "# # Data Exploration"
   ]
  },
  {
   "cell_type": "code",
   "execution_count": 13,
   "metadata": {},
   "outputs": [
    {
     "data": {
      "text/plain": [
       "Text(0,0.5,u'Counts')"
      ]
     },
     "execution_count": 13,
     "metadata": {},
     "output_type": "execute_result"
    },
    {
     "data": {
      "image/png": "[encoded data removed]",
      "text/plain": [
       "<matplotlib.figure.Figure at 0xa12df60>"
      ]
     },
     "metadata": {},
     "output_type": "display_data"
    }
   ],
   "source": [
    "cars['price'].value_counts().plot(kind='bar')\n",
    "plt.title('CARS PRICE')\n",
    "plt.xlabel('price')\n",
    "plt.ylabel('Counts')"
   ]
  },
  {
   "cell_type": "code",
   "execution_count": 14,
   "metadata": {},
   "outputs": [
    {
     "data": {
      "text/plain": [
       "Text(0,0.5,u'Counts')"
      ]
     },
     "execution_count": 14,
     "metadata": {},
     "output_type": "execute_result"
    },
    {
     "data": {
      "image/png": "[encoded data removed]",
      "text/plain": [
       "<matplotlib.figure.Figure at 0xa09e128>"
      ]
     },
     "metadata": {},
     "output_type": "display_data"
    }
   ],
   "source": [
    "cars['class_values'].value_counts().plot(kind='bar')\n",
    "plt.title('CARS VALUES')\n",
    "plt.xlabel('Value')\n",
    "plt.ylabel('Counts')\n"
   ]
  },
  {
   "cell_type": "code",
   "execution_count": 15,
   "metadata": {},
   "outputs": [
    {
     "data": {
      "text/plain": [
       "<matplotlib.legend.Legend at 0xa3e61d0>"
      ]
     },
     "execution_count": 15,
     "metadata": {},
     "output_type": "execute_result"
    },
    {
     "data": {
      "image/png": "[encoded data removed]",
      "text/plain": [
       "<matplotlib.figure.Figure at 0xa302320>"
      ]
     },
     "metadata": {},
     "output_type": "display_data"
    }
   ],
   "source": [
    "cars['maint'].value_counts().plot(kind='pie',autopct='%.2f',legend=True)\n",
    "plt.title('Maintenance Cost')\n",
    "plt.legend(bbox_to_anchor=(1.5,1.0))"
   ]
  },
  {
   "cell_type": "code",
   "execution_count": 16,
   "metadata": {},
   "outputs": [
    {
     "data": {
      "text/plain": [
       "<matplotlib.legend.Legend at 0xa695128>"
      ]
     },
     "execution_count": 16,
     "metadata": {},
     "output_type": "execute_result"
    },
    {
     "data": {
      "image/png": "[encoded data removed]",
      "text/plain": [
       "<matplotlib.figure.Figure at 0xa1e3438>"
      ]
     },
     "metadata": {},
     "output_type": "display_data"
    }
   ],
   "source": [
    "cars['No_of_doors'].value_counts().plot(kind='pie',autopct='%.2f',legend=True)\n",
    "plt.title('No.Of Doors')\n",
    "plt.legend(bbox_to_anchor=(1.5,1.0))"
   ]
  },
  {
   "cell_type": "code",
   "execution_count": 17,
   "metadata": {},
   "outputs": [
    {
     "data": {
      "text/plain": [
       "Text(0,0.5,u'Frequency')"
      ]
     },
     "execution_count": 17,
     "metadata": {},
     "output_type": "execute_result"
    },
    {
     "data": {
      "image/png": "[encoded data removed]",
      "text/plain": [
       "<matplotlib.figure.Figure at 0xa90d0b8>"
      ]
     },
     "metadata": {},
     "output_type": "display_data"
    }
   ],
   "source": [
    "cars['capacity'].value_counts().plot(kind='bar')\n",
    "plt.title('CAPACITY OF CARS')\n",
    "plt.xlabel('capacity')\n",
    "plt.ylabel('Frequency')"
   ]
  },
  {
   "cell_type": "code",
   "execution_count": 18,
   "metadata": {},
   "outputs": [
    {
     "data": {
      "text/plain": [
       "Text(0.5,0,u'Counts')"
      ]
     },
     "execution_count": 18,
     "metadata": {},
     "output_type": "execute_result"
    },
    {
     "data": {
      "image/png": "[encoded data removed]",
      "text/plain": [
       "<matplotlib.figure.Figure at 0xa18e780>"
      ]
     },
     "metadata": {},
     "output_type": "display_data"
    }
   ],
   "source": [
    "cars['lug_boot'].value_counts().plot(kind='barh')\n",
    "plt.title('LUG BOOT capacity for cars')\n",
    "plt.ylabel('Lug_boot')\n",
    "plt.xlabel('Counts')\n"
   ]
  },
  {
   "cell_type": "code",
   "execution_count": 19,
   "metadata": {},
   "outputs": [
    {
     "data": {
      "text/plain": [
       "<matplotlib.legend.Legend at 0xb2e01d0>"
      ]
     },
     "execution_count": 19,
     "metadata": {},
     "output_type": "execute_result"
    },
    {
     "data": {
      "image/png": "[encoded data removed]",
      "text/plain": [
       "<matplotlib.figure.Figure at 0xb2e0588>"
      ]
     },
     "metadata": {},
     "output_type": "display_data"
    }
   ],
   "source": [
    "cars['safety'].value_counts().plot(kind='pie',autopct='%.2f',legend=True)\n",
    "plt.title('Safety')\n",
    "plt.legend(bbox_to_anchor=(1.5,1.0))"
   ]
  },
  {
   "cell_type": "code",
   "execution_count": 20,
   "metadata": {},
   "outputs": [],
   "source": [
    "import seaborn as sns"
   ]
  },
  {
   "cell_type": "code",
   "execution_count": 21,
   "metadata": {},
   "outputs": [],
   "source": [
    "from sklearn import preprocessing"
   ]
  },
  {
   "cell_type": "code",
   "execution_count": 22,
   "metadata": {},
   "outputs": [],
   "source": [
    "cars_encoded= cars"
   ]
  },
  {
   "cell_type": "code",
   "execution_count": 23,
   "metadata": {},
   "outputs": [],
   "source": [
    "cars_encoded.price.replace(('vhigh','high','med','low'),(3,2,1,0), inplace=True)\n",
    "cars_encoded.maint.replace(('vhigh','high','med','low'),(3,2,1,0), inplace=True)\n",
    "cars_encoded.No_of_doors.replace(('2','3','4','5more'),(0,1,2,3), inplace=True)\n",
    "cars_encoded.capacity.replace(('2','4','more'),(0,1,2), inplace=True)\n",
    "cars_encoded.lug_boot.replace(('small','med','big'),(0,1,2), inplace=True)\n",
    "cars_encoded.safety.replace(('low','med','high'),(0,1,2), inplace=True)\n",
    "cars_encoded.class_values.replace(('unacc','acc','good','vgood'),(0,1,2,3), inplace=True)"
   ]
  },
  {
   "cell_type": "code",
   "execution_count": 24,
   "metadata": {},
   "outputs": [
    {
     "data": {
      "text/plain": [
       "<matplotlib.axes._subplots.AxesSubplot at 0xd4aa0b8>"
      ]
     },
     "execution_count": 24,
     "metadata": {},
     "output_type": "execute_result"
    },
    {
     "data": {
      "image/png": "[encoded data removed]",
      "text/plain": [
       "<matplotlib.figure.Figure at 0xd3ad978>"
      ]
     },
     "metadata": {},
     "output_type": "display_data"
    }
   ],
   "source": [
    "sns.heatmap(cars_encoded.corr())\n"
   ]
  },
  {
   "cell_type": "code",
   "execution_count": 25,
   "metadata": {},
   "outputs": [
    {
     "data": {
      "text/plain": [
       "array([[<matplotlib.axes._subplots.AxesSubplot object at 0x000000000D590A20>,\n",
       "        <matplotlib.axes._subplots.AxesSubplot object at 0x000000000D6D7DD8>,\n",
       "        <matplotlib.axes._subplots.AxesSubplot object at 0x000000000D8E29E8>],\n",
       "       [<matplotlib.axes._subplots.AxesSubplot object at 0x000000000D90A898>,\n",
       "        <matplotlib.axes._subplots.AxesSubplot object at 0x000000000DA07358>,\n",
       "        <matplotlib.axes._subplots.AxesSubplot object at 0x000000000DAC1A58>],\n",
       "       [<matplotlib.axes._subplots.AxesSubplot object at 0x000000000DB4E6D8>,\n",
       "        <matplotlib.axes._subplots.AxesSubplot object at 0x000000000DC76828>,\n",
       "        <matplotlib.axes._subplots.AxesSubplot object at 0x000000000DD084A8>]],\n",
       "      dtype=object)"
      ]
     },
     "execution_count": 25,
     "metadata": {},
     "output_type": "execute_result"
    },
    {
     "data": {
      "image/png": "[encoded data removed]",
      "text/plain": [
       "<matplotlib.figure.Figure at 0xd659278>"
      ]
     },
     "metadata": {},
     "output_type": "display_data"
    }
   ],
   "source": [
    "cars_encoded.hist()"
   ]
  },
  {
   "cell_type": "code",
   "execution_count": 26,
   "metadata": {},
   "outputs": [],
   "source": [
    "## Every input feature seems evenly distributed, implying their multivariate interelation is what causes the skew in the 'classes'"
   ]
  },
  {
   "cell_type": "code",
   "execution_count": 27,
   "metadata": {},
   "outputs": [],
   "source": [
    "ind = np.arange(4)  # the x locations for the groups\n",
    "width = 0.35 \n"
   ]
  },
  {
   "cell_type": "code",
   "execution_count": 28,
   "metadata": {},
   "outputs": [
    {
     "data": {
      "image/png": "[encoded data removed]",
      "text/plain": [
       "<matplotlib.figure.Figure at 0xdeadd30>"
      ]
     },
     "metadata": {},
     "output_type": "display_data"
    }
   ],
   "source": [
    "plt.hist(cars_encoded.lug_boot, bins=20,histtype='stepfilled' , color='y', label='Lug_boot')\n",
    "plt.hist(0.1+cars_encoded.safety, bins=20, histtype='stepfilled', color='r', alpha=0.5, label='Safety')\n",
    "plt.title('Lug_boot/Safety')\n",
    "plt.xlabel(\"Value\")\n",
    "plt.ylabel('Counts')\n",
    "plt.legend()\n",
    "plt.show()"
   ]
  },
  {
   "cell_type": "code",
   "execution_count": 29,
   "metadata": {},
   "outputs": [
    {
     "data": {
      "text/plain": [
       "<matplotlib.legend.Legend at 0xf427048>"
      ]
     },
     "execution_count": 29,
     "metadata": {},
     "output_type": "execute_result"
    },
    {
     "data": {
      "image/png": "[encoded data removed]",
      "text/plain": [
       "<matplotlib.figure.Figure at 0xd6597b8>"
      ]
     },
     "metadata": {},
     "output_type": "display_data"
    }
   ],
   "source": [
    "fig, ax = plt.subplots()\n",
    "rects1 = ax.bar(ind, cars['price'].value_counts(), width, color='r',label='Price')\n",
    "rects2 = ax.bar(ind + width,cars['maint'].value_counts(), width, color='y',label='maint cost')\n",
    "ax.set_ylabel('counts')\n",
    "ax.set_title('cars grouped by price and maintenence cost')\n",
    "ax.set_xticks(ind + width / 2)\n",
    "ax.set_xticklabels(('Low', 'Med', 'High', 'Vhigh'))\n",
    "plt.legend()\n",
    "\n"
   ]
  },
  {
   "cell_type": "code",
   "execution_count": 145,
   "metadata": {},
   "outputs": [
    {
     "data": {
      "image/png": "[encoded data removed]",
      "text/plain": [
       "<matplotlib.figure.Figure at 0x12157358>"
      ]
     },
     "metadata": {},
     "output_type": "display_data"
    }
   ],
   "source": [
    "plt.hist(cars_encoded.capacity, bins=10, color='black', label='capacity')\n",
    "plt.hist(cars_encoded.No_of_doors, bins=20, color='gold', label='No_of_doors')\n",
    "plt.title('capacity/No_of_doors')\n",
    "plt.xlabel(\"Value\")\n",
    "plt.ylabel('Counts')\n",
    "plt.legend()\n",
    "plt.show()"
   ]
  },
  {
   "cell_type": "code",
   "execution_count": 31,
   "metadata": {},
   "outputs": [
    {
     "data": {
      "text/plain": [
       "2    432\n",
       "1    432\n",
       "0    432\n",
       "3    431\n",
       "Name: price, dtype: int64"
      ]
     },
     "execution_count": 31,
     "metadata": {},
     "output_type": "execute_result"
    }
   ],
   "source": [
    "cars_encoded['price'].value_counts()"
   ]
  },
  {
   "cell_type": "code",
   "execution_count": 32,
   "metadata": {},
   "outputs": [
    {
     "data": {
      "text/plain": [
       "0    1209\n",
       "1     384\n",
       "2      69\n",
       "3      65\n",
       "Name: class_values, dtype: int64"
      ]
     },
     "execution_count": 32,
     "metadata": {},
     "output_type": "execute_result"
    }
   ],
   "source": [
    "cars_encoded['class_values'].value_counts()"
   ]
  },
  {
   "cell_type": "code",
   "execution_count": 33,
   "metadata": {
    "scrolled": true
   },
   "outputs": [
    {
     "data": {
      "text/plain": [
       "0    1209\n",
       "1     384\n",
       "2      69\n",
       "3      65\n",
       "Name: class_values, dtype: int64"
      ]
     },
     "execution_count": 33,
     "metadata": {},
     "output_type": "execute_result"
    }
   ],
   "source": [
    "cars['class_values'].value_counts()"
   ]
  },
  {
   "cell_type": "markdown",
   "metadata": {},
   "source": [
    "# Data Modelling"
   ]
  },
  {
   "cell_type": "code",
   "execution_count": 34,
   "metadata": {},
   "outputs": [],
   "source": [
    "from sklearn.model_selection import train_test_split"
   ]
  },
  {
   "cell_type": "code",
   "execution_count": 35,
   "metadata": {},
   "outputs": [],
   "source": [
    "df = cars_encoded.values"
   ]
  },
  {
   "cell_type": "code",
   "execution_count": 36,
   "metadata": {},
   "outputs": [
    {
     "name": "stdout",
     "output_type": "stream",
     "text": [
      "[[3 3 0 0 0 1 0]\n",
      " [3 3 0 0 0 2 0]\n",
      " [3 3 0 0 1 0 0]\n",
      " [3 3 0 0 1 1 0]\n",
      " [3 3 0 0 1 2 0]\n",
      " [3 3 0 0 2 0 0]\n",
      " [3 3 0 0 2 1 0]\n",
      " [3 3 0 0 2 2 0]\n",
      " [3 3 0 1 0 0 0]\n",
      " [3 3 0 1 0 1 0]]\n"
     ]
    }
   ],
   "source": [
    "print df[:10,:]"
   ]
  },
  {
   "cell_type": "code",
   "execution_count": 37,
   "metadata": {},
   "outputs": [],
   "source": [
    "X = df[:,:6]"
   ]
  },
  {
   "cell_type": "code",
   "execution_count": 38,
   "metadata": {},
   "outputs": [
    {
     "data": {
      "text/plain": [
       "array([[3, 3, 0, 0, 0, 1],\n",
       "       [3, 3, 0, 0, 0, 2],\n",
       "       [3, 3, 0, 0, 1, 0],\n",
       "       ...,\n",
       "       [0, 0, 3, 2, 2, 0],\n",
       "       [0, 0, 3, 2, 2, 1],\n",
       "       [0, 0, 3, 2, 2, 2]], dtype=int64)"
      ]
     },
     "execution_count": 38,
     "metadata": {},
     "output_type": "execute_result"
    }
   ],
   "source": [
    "X"
   ]
  },
  {
   "cell_type": "code",
   "execution_count": 39,
   "metadata": {},
   "outputs": [],
   "source": [
    "y = df[:,6]"
   ]
  },
  {
   "cell_type": "code",
   "execution_count": 40,
   "metadata": {},
   "outputs": [
    {
     "data": {
      "text/plain": [
       "array([0, 0, 0, ..., 0, 2, 3], dtype=int64)"
      ]
     },
     "execution_count": 40,
     "metadata": {},
     "output_type": "execute_result"
    }
   ],
   "source": [
    "y"
   ]
  },
  {
   "cell_type": "code",
   "execution_count": 41,
   "metadata": {},
   "outputs": [],
   "source": [
    "X = X.astype(int)\n",
    "y = y.astype(int)"
   ]
  },
  {
   "cell_type": "code",
   "execution_count": 42,
   "metadata": {},
   "outputs": [],
   "source": [
    "X_train, X_test, y_train, y_test = train_test_split(X,y,test_size=0.30,random_state=4)"
   ]
  },
  {
   "cell_type": "code",
   "execution_count": 43,
   "metadata": {},
   "outputs": [
    {
     "data": {
      "text/plain": [
       "(1208L, 6L)"
      ]
     },
     "execution_count": 43,
     "metadata": {},
     "output_type": "execute_result"
    }
   ],
   "source": [
    "X_train.shape"
   ]
  },
  {
   "cell_type": "code",
   "execution_count": 44,
   "metadata": {},
   "outputs": [],
   "source": [
    "X_train_unique=X_train\n",
    "X_test_unique=X_test\n",
    "y_train_unique=y_train\n",
    "y_test_unique=y_test"
   ]
  },
  {
   "cell_type": "code",
   "execution_count": 45,
   "metadata": {},
   "outputs": [
    {
     "data": {
      "text/plain": [
       "(519L, 6L)"
      ]
     },
     "execution_count": 45,
     "metadata": {},
     "output_type": "execute_result"
    }
   ],
   "source": [
    "X_test.shape"
   ]
  },
  {
   "cell_type": "code",
   "execution_count": 46,
   "metadata": {},
   "outputs": [],
   "source": [
    "from sklearn.ensemble import RandomForestClassifier\n",
    "from sklearn.neighbors import KNeighborsClassifier\n",
    "from sklearn.tree import DecisionTreeClassifier"
   ]
  },
  {
   "cell_type": "code",
   "execution_count": 47,
   "metadata": {},
   "outputs": [],
   "source": [
    "clf = DecisionTreeClassifier()"
   ]
  },
  {
   "cell_type": "code",
   "execution_count": 48,
   "metadata": {},
   "outputs": [],
   "source": [
    "fit = clf.fit(X_train,y_train) "
   ]
  },
  {
   "cell_type": "code",
   "execution_count": 49,
   "metadata": {},
   "outputs": [],
   "source": [
    "y_pre = fit.predict(X_test)  "
   ]
  },
  {
   "cell_type": "code",
   "execution_count": 50,
   "metadata": {},
   "outputs": [
    {
     "data": {
      "text/plain": [
       "(519L,)"
      ]
     },
     "execution_count": 50,
     "metadata": {},
     "output_type": "execute_result"
    }
   ],
   "source": [
    "y_pre.shape"
   ]
  },
  {
   "cell_type": "code",
   "execution_count": 51,
   "metadata": {},
   "outputs": [],
   "source": [
    "from sklearn.metrics import confusion_matrix"
   ]
  },
  {
   "cell_type": "code",
   "execution_count": 52,
   "metadata": {},
   "outputs": [],
   "source": [
    "cm = confusion_matrix(y_test, y_pre)"
   ]
  },
  {
   "cell_type": "code",
   "execution_count": 53,
   "metadata": {},
   "outputs": [
    {
     "name": "stdout",
     "output_type": "stream",
     "text": [
      "[[370   2   0   0]\n",
      " [  6 108   0   0]\n",
      " [  0   2  16   0]\n",
      " [  0   1   0  14]]\n"
     ]
    }
   ],
   "source": [
    "print cm\n"
   ]
  },
  {
   "cell_type": "code",
   "execution_count": 54,
   "metadata": {},
   "outputs": [],
   "source": [
    "from sklearn.metrics import classification_report\n"
   ]
  },
  {
   "cell_type": "code",
   "execution_count": 55,
   "metadata": {},
   "outputs": [
    {
     "name": "stdout",
     "output_type": "stream",
     "text": [
      "             precision    recall  f1-score   support\n",
      "\n",
      "          0       0.98      0.99      0.99       372\n",
      "          1       0.96      0.95      0.95       114\n",
      "          2       1.00      0.89      0.94        18\n",
      "          3       1.00      0.93      0.97        15\n",
      "\n",
      "avg / total       0.98      0.98      0.98       519\n",
      "\n"
     ]
    }
   ],
   "source": [
    "print classification_report(y_test,y_pre)"
   ]
  },
  {
   "cell_type": "code",
   "execution_count": 56,
   "metadata": {},
   "outputs": [],
   "source": [
    "from sklearn.metrics import accuracy_score"
   ]
  },
  {
   "cell_type": "code",
   "execution_count": 57,
   "metadata": {},
   "outputs": [],
   "source": [
    "score1 = accuracy_score(y_test, y_pre)"
   ]
  },
  {
   "cell_type": "code",
   "execution_count": 58,
   "metadata": {},
   "outputs": [
    {
     "data": {
      "text/plain": [
       "0.9788053949903661"
      ]
     },
     "execution_count": 58,
     "metadata": {},
     "output_type": "execute_result"
    }
   ],
   "source": [
    "score1"
   ]
  },
  {
   "cell_type": "code",
   "execution_count": 59,
   "metadata": {},
   "outputs": [],
   "source": [
    "d_tree_error_rate=(1 - accuracy_score(y_test, y_pre))"
   ]
  },
  {
   "cell_type": "code",
   "execution_count": 60,
   "metadata": {},
   "outputs": [
    {
     "data": {
      "text/plain": [
       "0.021194605009633882"
      ]
     },
     "execution_count": 60,
     "metadata": {},
     "output_type": "execute_result"
    }
   ],
   "source": [
    "d_tree_error_rate"
   ]
  },
  {
   "cell_type": "code",
   "execution_count": 61,
   "metadata": {},
   "outputs": [
    {
     "name": "stdout",
     "output_type": "stream",
     "text": [
      "[Train/test split] score: 0.97881\n"
     ]
    }
   ],
   "source": [
    "print \"[Train/test split] score: {:.5f}\".format(clf.score(X_test, y_test)) "
   ]
  },
  {
   "cell_type": "code",
   "execution_count": 62,
   "metadata": {},
   "outputs": [],
   "source": [
    "from sklearn.model_selection import KFold"
   ]
  },
  {
   "cell_type": "code",
   "execution_count": 63,
   "metadata": {},
   "outputs": [],
   "source": [
    "kf = KFold(n_splits=5,random_state=1)"
   ]
  },
  {
   "cell_type": "code",
   "execution_count": 64,
   "metadata": {},
   "outputs": [
    {
     "name": "stdout",
     "output_type": "stream",
     "text": [
      "('TRAIN:', array([ 346,  347,  348, ..., 1724, 1725, 1726], dtype=int64), 'TEST:', array([  0,   1,   2,   3,   4,   5,   6,   7,   8,   9,  10,  11,  12,\n",
      "        13,  14,  15,  16,  17,  18,  19,  20,  21,  22,  23,  24,  25,\n",
      "        26,  27,  28,  29,  30,  31,  32,  33,  34,  35,  36,  37,  38,\n",
      "        39,  40,  41,  42,  43,  44,  45,  46,  47,  48,  49,  50,  51,\n",
      "        52,  53,  54,  55,  56,  57,  58,  59,  60,  61,  62,  63,  64,\n",
      "        65,  66,  67,  68,  69,  70,  71,  72,  73,  74,  75,  76,  77,\n",
      "        78,  79,  80,  81,  82,  83,  84,  85,  86,  87,  88,  89,  90,\n",
      "        91,  92,  93,  94,  95,  96,  97,  98,  99, 100, 101, 102, 103,\n",
      "       104, 105, 106, 107, 108, 109, 110, 111, 112, 113, 114, 115, 116,\n",
      "       117, 118, 119, 120, 121, 122, 123, 124, 125, 126, 127, 128, 129,\n",
      "       130, 131, 132, 133, 134, 135, 136, 137, 138, 139, 140, 141, 142,\n",
      "       143, 144, 145, 146, 147, 148, 149, 150, 151, 152, 153, 154, 155,\n",
      "       156, 157, 158, 159, 160, 161, 162, 163, 164, 165, 166, 167, 168,\n",
      "       169, 170, 171, 172, 173, 174, 175, 176, 177, 178, 179, 180, 181,\n",
      "       182, 183, 184, 185, 186, 187, 188, 189, 190, 191, 192, 193, 194,\n",
      "       195, 196, 197, 198, 199, 200, 201, 202, 203, 204, 205, 206, 207,\n",
      "       208, 209, 210, 211, 212, 213, 214, 215, 216, 217, 218, 219, 220,\n",
      "       221, 222, 223, 224, 225, 226, 227, 228, 229, 230, 231, 232, 233,\n",
      "       234, 235, 236, 237, 238, 239, 240, 241, 242, 243, 244, 245, 246,\n",
      "       247, 248, 249, 250, 251, 252, 253, 254, 255, 256, 257, 258, 259,\n",
      "       260, 261, 262, 263, 264, 265, 266, 267, 268, 269, 270, 271, 272,\n",
      "       273, 274, 275, 276, 277, 278, 279, 280, 281, 282, 283, 284, 285,\n",
      "       286, 287, 288, 289, 290, 291, 292, 293, 294, 295, 296, 297, 298,\n",
      "       299, 300, 301, 302, 303, 304, 305, 306, 307, 308, 309, 310, 311,\n",
      "       312, 313, 314, 315, 316, 317, 318, 319, 320, 321, 322, 323, 324,\n",
      "       325, 326, 327, 328, 329, 330, 331, 332, 333, 334, 335, 336, 337,\n",
      "       338, 339, 340, 341, 342, 343, 344, 345], dtype=int64))\n",
      "('TRAIN:', array([   0,    1,    2, ..., 1724, 1725, 1726], dtype=int64), 'TEST:', array([346, 347, 348, 349, 350, 351, 352, 353, 354, 355, 356, 357, 358,\n",
      "       359, 360, 361, 362, 363, 364, 365, 366, 367, 368, 369, 370, 371,\n",
      "       372, 373, 374, 375, 376, 377, 378, 379, 380, 381, 382, 383, 384,\n",
      "       385, 386, 387, 388, 389, 390, 391, 392, 393, 394, 395, 396, 397,\n",
      "       398, 399, 400, 401, 402, 403, 404, 405, 406, 407, 408, 409, 410,\n",
      "       411, 412, 413, 414, 415, 416, 417, 418, 419, 420, 421, 422, 423,\n",
      "       424, 425, 426, 427, 428, 429, 430, 431, 432, 433, 434, 435, 436,\n",
      "       437, 438, 439, 440, 441, 442, 443, 444, 445, 446, 447, 448, 449,\n",
      "       450, 451, 452, 453, 454, 455, 456, 457, 458, 459, 460, 461, 462,\n",
      "       463, 464, 465, 466, 467, 468, 469, 470, 471, 472, 473, 474, 475,\n",
      "       476, 477, 478, 479, 480, 481, 482, 483, 484, 485, 486, 487, 488,\n",
      "       489, 490, 491, 492, 493, 494, 495, 496, 497, 498, 499, 500, 501,\n",
      "       502, 503, 504, 505, 506, 507, 508, 509, 510, 511, 512, 513, 514,\n",
      "       515, 516, 517, 518, 519, 520, 521, 522, 523, 524, 525, 526, 527,\n",
      "       528, 529, 530, 531, 532, 533, 534, 535, 536, 537, 538, 539, 540,\n",
      "       541, 542, 543, 544, 545, 546, 547, 548, 549, 550, 551, 552, 553,\n",
      "       554, 555, 556, 557, 558, 559, 560, 561, 562, 563, 564, 565, 566,\n",
      "       567, 568, 569, 570, 571, 572, 573, 574, 575, 576, 577, 578, 579,\n",
      "       580, 581, 582, 583, 584, 585, 586, 587, 588, 589, 590, 591, 592,\n",
      "       593, 594, 595, 596, 597, 598, 599, 600, 601, 602, 603, 604, 605,\n",
      "       606, 607, 608, 609, 610, 611, 612, 613, 614, 615, 616, 617, 618,\n",
      "       619, 620, 621, 622, 623, 624, 625, 626, 627, 628, 629, 630, 631,\n",
      "       632, 633, 634, 635, 636, 637, 638, 639, 640, 641, 642, 643, 644,\n",
      "       645, 646, 647, 648, 649, 650, 651, 652, 653, 654, 655, 656, 657,\n",
      "       658, 659, 660, 661, 662, 663, 664, 665, 666, 667, 668, 669, 670,\n",
      "       671, 672, 673, 674, 675, 676, 677, 678, 679, 680, 681, 682, 683,\n",
      "       684, 685, 686, 687, 688, 689, 690, 691], dtype=int64))\n",
      "('TRAIN:', array([   0,    1,    2, ..., 1724, 1725, 1726], dtype=int64), 'TEST:', array([ 692,  693,  694,  695,  696,  697,  698,  699,  700,  701,  702,\n",
      "        703,  704,  705,  706,  707,  708,  709,  710,  711,  712,  713,\n",
      "        714,  715,  716,  717,  718,  719,  720,  721,  722,  723,  724,\n",
      "        725,  726,  727,  728,  729,  730,  731,  732,  733,  734,  735,\n",
      "        736,  737,  738,  739,  740,  741,  742,  743,  744,  745,  746,\n",
      "        747,  748,  749,  750,  751,  752,  753,  754,  755,  756,  757,\n",
      "        758,  759,  760,  761,  762,  763,  764,  765,  766,  767,  768,\n",
      "        769,  770,  771,  772,  773,  774,  775,  776,  777,  778,  779,\n",
      "        780,  781,  782,  783,  784,  785,  786,  787,  788,  789,  790,\n",
      "        791,  792,  793,  794,  795,  796,  797,  798,  799,  800,  801,\n",
      "        802,  803,  804,  805,  806,  807,  808,  809,  810,  811,  812,\n",
      "        813,  814,  815,  816,  817,  818,  819,  820,  821,  822,  823,\n",
      "        824,  825,  826,  827,  828,  829,  830,  831,  832,  833,  834,\n",
      "        835,  836,  837,  838,  839,  840,  841,  842,  843,  844,  845,\n",
      "        846,  847,  848,  849,  850,  851,  852,  853,  854,  855,  856,\n",
      "        857,  858,  859,  860,  861,  862,  863,  864,  865,  866,  867,\n",
      "        868,  869,  870,  871,  872,  873,  874,  875,  876,  877,  878,\n",
      "        879,  880,  881,  882,  883,  884,  885,  886,  887,  888,  889,\n",
      "        890,  891,  892,  893,  894,  895,  896,  897,  898,  899,  900,\n",
      "        901,  902,  903,  904,  905,  906,  907,  908,  909,  910,  911,\n",
      "        912,  913,  914,  915,  916,  917,  918,  919,  920,  921,  922,\n",
      "        923,  924,  925,  926,  927,  928,  929,  930,  931,  932,  933,\n",
      "        934,  935,  936,  937,  938,  939,  940,  941,  942,  943,  944,\n",
      "        945,  946,  947,  948,  949,  950,  951,  952,  953,  954,  955,\n",
      "        956,  957,  958,  959,  960,  961,  962,  963,  964,  965,  966,\n",
      "        967,  968,  969,  970,  971,  972,  973,  974,  975,  976,  977,\n",
      "        978,  979,  980,  981,  982,  983,  984,  985,  986,  987,  988,\n",
      "        989,  990,  991,  992,  993,  994,  995,  996,  997,  998,  999,\n",
      "       1000, 1001, 1002, 1003, 1004, 1005, 1006, 1007, 1008, 1009, 1010,\n",
      "       1011, 1012, 1013, 1014, 1015, 1016, 1017, 1018, 1019, 1020, 1021,\n",
      "       1022, 1023, 1024, 1025, 1026, 1027, 1028, 1029, 1030, 1031, 1032,\n",
      "       1033, 1034, 1035, 1036], dtype=int64))\n",
      "('TRAIN:', array([   0,    1,    2, ..., 1724, 1725, 1726], dtype=int64), 'TEST:', array([1037, 1038, 1039, 1040, 1041, 1042, 1043, 1044, 1045, 1046, 1047,\n",
      "       1048, 1049, 1050, 1051, 1052, 1053, 1054, 1055, 1056, 1057, 1058,\n",
      "       1059, 1060, 1061, 1062, 1063, 1064, 1065, 1066, 1067, 1068, 1069,\n",
      "       1070, 1071, 1072, 1073, 1074, 1075, 1076, 1077, 1078, 1079, 1080,\n",
      "       1081, 1082, 1083, 1084, 1085, 1086, 1087, 1088, 1089, 1090, 1091,\n",
      "       1092, 1093, 1094, 1095, 1096, 1097, 1098, 1099, 1100, 1101, 1102,\n",
      "       1103, 1104, 1105, 1106, 1107, 1108, 1109, 1110, 1111, 1112, 1113,\n",
      "       1114, 1115, 1116, 1117, 1118, 1119, 1120, 1121, 1122, 1123, 1124,\n",
      "       1125, 1126, 1127, 1128, 1129, 1130, 1131, 1132, 1133, 1134, 1135,\n",
      "       1136, 1137, 1138, 1139, 1140, 1141, 1142, 1143, 1144, 1145, 1146,\n",
      "       1147, 1148, 1149, 1150, 1151, 1152, 1153, 1154, 1155, 1156, 1157,\n",
      "       1158, 1159, 1160, 1161, 1162, 1163, 1164, 1165, 1166, 1167, 1168,\n",
      "       1169, 1170, 1171, 1172, 1173, 1174, 1175, 1176, 1177, 1178, 1179,\n",
      "       1180, 1181, 1182, 1183, 1184, 1185, 1186, 1187, 1188, 1189, 1190,\n",
      "       1191, 1192, 1193, 1194, 1195, 1196, 1197, 1198, 1199, 1200, 1201,\n",
      "       1202, 1203, 1204, 1205, 1206, 1207, 1208, 1209, 1210, 1211, 1212,\n",
      "       1213, 1214, 1215, 1216, 1217, 1218, 1219, 1220, 1221, 1222, 1223,\n",
      "       1224, 1225, 1226, 1227, 1228, 1229, 1230, 1231, 1232, 1233, 1234,\n",
      "       1235, 1236, 1237, 1238, 1239, 1240, 1241, 1242, 1243, 1244, 1245,\n",
      "       1246, 1247, 1248, 1249, 1250, 1251, 1252, 1253, 1254, 1255, 1256,\n",
      "       1257, 1258, 1259, 1260, 1261, 1262, 1263, 1264, 1265, 1266, 1267,\n",
      "       1268, 1269, 1270, 1271, 1272, 1273, 1274, 1275, 1276, 1277, 1278,\n",
      "       1279, 1280, 1281, 1282, 1283, 1284, 1285, 1286, 1287, 1288, 1289,\n",
      "       1290, 1291, 1292, 1293, 1294, 1295, 1296, 1297, 1298, 1299, 1300,\n",
      "       1301, 1302, 1303, 1304, 1305, 1306, 1307, 1308, 1309, 1310, 1311,\n",
      "       1312, 1313, 1314, 1315, 1316, 1317, 1318, 1319, 1320, 1321, 1322,\n",
      "       1323, 1324, 1325, 1326, 1327, 1328, 1329, 1330, 1331, 1332, 1333,\n",
      "       1334, 1335, 1336, 1337, 1338, 1339, 1340, 1341, 1342, 1343, 1344,\n",
      "       1345, 1346, 1347, 1348, 1349, 1350, 1351, 1352, 1353, 1354, 1355,\n",
      "       1356, 1357, 1358, 1359, 1360, 1361, 1362, 1363, 1364, 1365, 1366,\n",
      "       1367, 1368, 1369, 1370, 1371, 1372, 1373, 1374, 1375, 1376, 1377,\n",
      "       1378, 1379, 1380, 1381], dtype=int64))\n",
      "('TRAIN:', array([   0,    1,    2, ..., 1379, 1380, 1381], dtype=int64), 'TEST:', array([1382, 1383, 1384, 1385, 1386, 1387, 1388, 1389, 1390, 1391, 1392,\n",
      "       1393, 1394, 1395, 1396, 1397, 1398, 1399, 1400, 1401, 1402, 1403,\n",
      "       1404, 1405, 1406, 1407, 1408, 1409, 1410, 1411, 1412, 1413, 1414,\n",
      "       1415, 1416, 1417, 1418, 1419, 1420, 1421, 1422, 1423, 1424, 1425,\n",
      "       1426, 1427, 1428, 1429, 1430, 1431, 1432, 1433, 1434, 1435, 1436,\n",
      "       1437, 1438, 1439, 1440, 1441, 1442, 1443, 1444, 1445, 1446, 1447,\n",
      "       1448, 1449, 1450, 1451, 1452, 1453, 1454, 1455, 1456, 1457, 1458,\n",
      "       1459, 1460, 1461, 1462, 1463, 1464, 1465, 1466, 1467, 1468, 1469,\n",
      "       1470, 1471, 1472, 1473, 1474, 1475, 1476, 1477, 1478, 1479, 1480,\n",
      "       1481, 1482, 1483, 1484, 1485, 1486, 1487, 1488, 1489, 1490, 1491,\n",
      "       1492, 1493, 1494, 1495, 1496, 1497, 1498, 1499, 1500, 1501, 1502,\n",
      "       1503, 1504, 1505, 1506, 1507, 1508, 1509, 1510, 1511, 1512, 1513,\n",
      "       1514, 1515, 1516, 1517, 1518, 1519, 1520, 1521, 1522, 1523, 1524,\n",
      "       1525, 1526, 1527, 1528, 1529, 1530, 1531, 1532, 1533, 1534, 1535,\n",
      "       1536, 1537, 1538, 1539, 1540, 1541, 1542, 1543, 1544, 1545, 1546,\n",
      "       1547, 1548, 1549, 1550, 1551, 1552, 1553, 1554, 1555, 1556, 1557,\n",
      "       1558, 1559, 1560, 1561, 1562, 1563, 1564, 1565, 1566, 1567, 1568,\n",
      "       1569, 1570, 1571, 1572, 1573, 1574, 1575, 1576, 1577, 1578, 1579,\n",
      "       1580, 1581, 1582, 1583, 1584, 1585, 1586, 1587, 1588, 1589, 1590,\n",
      "       1591, 1592, 1593, 1594, 1595, 1596, 1597, 1598, 1599, 1600, 1601,\n",
      "       1602, 1603, 1604, 1605, 1606, 1607, 1608, 1609, 1610, 1611, 1612,\n",
      "       1613, 1614, 1615, 1616, 1617, 1618, 1619, 1620, 1621, 1622, 1623,\n",
      "       1624, 1625, 1626, 1627, 1628, 1629, 1630, 1631, 1632, 1633, 1634,\n",
      "       1635, 1636, 1637, 1638, 1639, 1640, 1641, 1642, 1643, 1644, 1645,\n",
      "       1646, 1647, 1648, 1649, 1650, 1651, 1652, 1653, 1654, 1655, 1656,\n",
      "       1657, 1658, 1659, 1660, 1661, 1662, 1663, 1664, 1665, 1666, 1667,\n",
      "       1668, 1669, 1670, 1671, 1672, 1673, 1674, 1675, 1676, 1677, 1678,\n",
      "       1679, 1680, 1681, 1682, 1683, 1684, 1685, 1686, 1687, 1688, 1689,\n",
      "       1690, 1691, 1692, 1693, 1694, 1695, 1696, 1697, 1698, 1699, 1700,\n",
      "       1701, 1702, 1703, 1704, 1705, 1706, 1707, 1708, 1709, 1710, 1711,\n",
      "       1712, 1713, 1714, 1715, 1716, 1717, 1718, 1719, 1720, 1721, 1722,\n",
      "       1723, 1724, 1725, 1726], dtype=int64))\n"
     ]
    }
   ],
   "source": [
    "for train_index, test_index in kf.split(X):\n",
    " print(\"TRAIN:\", train_index, \"TEST:\", test_index)\n",
    "X_train, X_test = X[train_index], X[test_index]\n",
    "y_train, y_test = y[train_index], y[test_index]"
   ]
  },
  {
   "cell_type": "code",
   "execution_count": 65,
   "metadata": {},
   "outputs": [
    {
     "name": "stdout",
     "output_type": "stream",
     "text": [
      "[fold 0] score: 0.89595\n",
      "[fold 1] score: 0.89595\n",
      "[fold 2] score: 0.99130\n",
      "[fold 3] score: 0.79130\n",
      "[fold 4] score: 0.86667\n"
     ]
    }
   ],
   "source": [
    "for k, (train_index, test_index) in enumerate(kf.split(X)):\n",
    " X_train, X_test = X[train_index], X[test_index]\n",
    " y_train, y_test = y[train_index], y[test_index]\n",
    " \n",
    " clf.fit(X_train, y_train)\n",
    " print \"[fold {0}] score: {1:.5f}\".format(k, clf.score(X_test, y_test))"
   ]
  },
  {
   "cell_type": "code",
   "execution_count": 66,
   "metadata": {},
   "outputs": [
    {
     "name": "stdout",
     "output_type": "stream",
     "text": [
      "[0.13909894 0.13831745 0.06145907 0.18955596 0.11931117 0.35225741]\n"
     ]
    }
   ],
   "source": [
    "print(clf.feature_importances_)"
   ]
  },
  {
   "cell_type": "code",
   "execution_count": 67,
   "metadata": {},
   "outputs": [],
   "source": [
    "data_feature_names =['price','maint','No.of.doors','capacity','lug_boot','safety']"
   ]
  },
  {
   "cell_type": "code",
   "execution_count": 68,
   "metadata": {},
   "outputs": [],
   "source": [
    "feature_names=data_feature_names,"
   ]
  },
  {
   "cell_type": "code",
   "execution_count": 69,
   "metadata": {},
   "outputs": [],
   "source": [
    "feature_names=data_feature_names,"
   ]
  },
  {
   "cell_type": "code",
   "execution_count": 70,
   "metadata": {},
   "outputs": [],
   "source": [
    "from sklearn import tree\n"
   ]
  },
  {
   "cell_type": "code",
   "execution_count": 71,
   "metadata": {},
   "outputs": [],
   "source": [
    "with open('carseval.dot', 'w') as f:\n",
    "    f = tree.export_graphviz(clf, out_file=f,feature_names=data_feature_names, filled=True, rounded=True, special_characters=True)"
   ]
  },
  {
   "cell_type": "code",
   "execution_count": 72,
   "metadata": {
    "scrolled": true
   },
   "outputs": [],
   "source": [
    "clf2= DecisionTreeClassifier(criterion='gini', splitter='best', max_depth=None, min_samples_split=2, min_samples_leaf=1, min_weight_fraction_leaf=0.0, max_features=None, random_state=None, max_leaf_nodes=None, min_impurity_decrease=0.0, min_impurity_split=None, class_weight=None, presort=False)"
   ]
  },
  {
   "cell_type": "code",
   "execution_count": 73,
   "metadata": {},
   "outputs": [],
   "source": [
    "X_train=X_train_unique\n",
    "X_test=X_test_unique\n",
    "y_train=y_train_unique\n",
    "y_test=y_test_unique"
   ]
  },
  {
   "cell_type": "code",
   "execution_count": 74,
   "metadata": {},
   "outputs": [],
   "source": [
    "fit2 = clf2.fit(X_train,y_train)"
   ]
  },
  {
   "cell_type": "code",
   "execution_count": 75,
   "metadata": {},
   "outputs": [],
   "source": [
    "y_pre2 = fit2.predict(X_test)  "
   ]
  },
  {
   "cell_type": "code",
   "execution_count": 76,
   "metadata": {},
   "outputs": [],
   "source": [
    "cm2 = confusion_matrix(y_test, y_pre2)"
   ]
  },
  {
   "cell_type": "code",
   "execution_count": 77,
   "metadata": {},
   "outputs": [
    {
     "data": {
      "text/plain": [
       "array([[370,   2,   0,   0],\n",
       "       [  6, 108,   0,   0],\n",
       "       [  0,   1,  17,   0],\n",
       "       [  0,   1,   0,  14]], dtype=int64)"
      ]
     },
     "execution_count": 77,
     "metadata": {},
     "output_type": "execute_result"
    }
   ],
   "source": [
    " cm2"
   ]
  },
  {
   "cell_type": "code",
   "execution_count": 78,
   "metadata": {
    "scrolled": true
   },
   "outputs": [
    {
     "name": "stdout",
     "output_type": "stream",
     "text": [
      "             precision    recall  f1-score   support\n",
      "\n",
      "          0       0.98      0.99      0.99       372\n",
      "          1       0.96      0.95      0.96       114\n",
      "          2       1.00      0.94      0.97        18\n",
      "          3       1.00      0.93      0.97        15\n",
      "\n",
      "avg / total       0.98      0.98      0.98       519\n",
      "\n"
     ]
    }
   ],
   "source": [
    "print classification_report(y_test,y_pre2)"
   ]
  },
  {
   "cell_type": "code",
   "execution_count": 79,
   "metadata": {},
   "outputs": [],
   "source": [
    "kf = KFold(n_splits=5,random_state=1)"
   ]
  },
  {
   "cell_type": "code",
   "execution_count": 80,
   "metadata": {},
   "outputs": [
    {
     "name": "stdout",
     "output_type": "stream",
     "text": [
      "[fold 0] score: 0.89595\n",
      "[fold 1] score: 0.89595\n",
      "[fold 2] score: 0.99130\n",
      "[fold 3] score: 0.79130\n",
      "[fold 4] score: 0.86667\n"
     ]
    }
   ],
   "source": [
    "for k, (train_index, test_index) in enumerate(kf.split(X)):\n",
    " X_train, X_test = X[train_index], X[test_index]\n",
    " y_train, y_test = y[train_index], y[test_index]\n",
    " \n",
    " clf2.fit(X_train, y_train)\n",
    " print \"[fold {0}] score: {1:.5f}\".format(k, clf2.score(X_test, y_test))"
   ]
  },
  {
   "cell_type": "code",
   "execution_count": 81,
   "metadata": {},
   "outputs": [],
   "source": [
    "clf3= DecisionTreeClassifier(criterion='gini', splitter='best', max_depth=5, min_samples_split=3, min_samples_leaf=2, min_weight_fraction_leaf=0.0, max_features=None, random_state=None, max_leaf_nodes=None, min_impurity_decrease=0.0, min_impurity_split=None, class_weight='balanced', presort=False)"
   ]
  },
  {
   "cell_type": "code",
   "execution_count": 82,
   "metadata": {},
   "outputs": [],
   "source": [
    "X_train=X_train_unique\n",
    "X_test=X_test_unique\n",
    "y_train=y_train_unique\n",
    "y_test=y_test_unique"
   ]
  },
  {
   "cell_type": "code",
   "execution_count": 83,
   "metadata": {},
   "outputs": [],
   "source": [
    "fit3=clf3.fit(X_train,y_train)"
   ]
  },
  {
   "cell_type": "code",
   "execution_count": 84,
   "metadata": {},
   "outputs": [],
   "source": [
    "y_pre3 = fit3.predict(X_test)  "
   ]
  },
  {
   "cell_type": "code",
   "execution_count": 85,
   "metadata": {},
   "outputs": [],
   "source": [
    "cm3= confusion_matrix(y_test, y_pre3)"
   ]
  },
  {
   "cell_type": "code",
   "execution_count": 86,
   "metadata": {},
   "outputs": [
    {
     "data": {
      "text/plain": [
       "array([[326,  42,   4,   0],\n",
       "       [  0,  76,  27,  11],\n",
       "       [  0,   0,  15,   3],\n",
       "       [  0,   0,   0,  15]], dtype=int64)"
      ]
     },
     "execution_count": 86,
     "metadata": {},
     "output_type": "execute_result"
    }
   ],
   "source": [
    "cm3"
   ]
  },
  {
   "cell_type": "code",
   "execution_count": 87,
   "metadata": {},
   "outputs": [
    {
     "name": "stdout",
     "output_type": "stream",
     "text": [
      "             precision    recall  f1-score   support\n",
      "\n",
      "          0       1.00      0.88      0.93       372\n",
      "          1       0.64      0.67      0.66       114\n",
      "          2       0.33      0.83      0.47        18\n",
      "          3       0.52      1.00      0.68        15\n",
      "\n",
      "avg / total       0.88      0.83      0.85       519\n",
      "\n"
     ]
    }
   ],
   "source": [
    "print classification_report(y_test,y_pre3)"
   ]
  },
  {
   "cell_type": "code",
   "execution_count": 88,
   "metadata": {},
   "outputs": [],
   "source": [
    "score3 = accuracy_score(y_test, y_pre3)"
   ]
  },
  {
   "cell_type": "code",
   "execution_count": 89,
   "metadata": {},
   "outputs": [
    {
     "data": {
      "text/plain": [
       "0.8323699421965318"
      ]
     },
     "execution_count": 89,
     "metadata": {},
     "output_type": "execute_result"
    }
   ],
   "source": [
    "score3"
   ]
  },
  {
   "cell_type": "code",
   "execution_count": 90,
   "metadata": {},
   "outputs": [],
   "source": [
    "d_dt3_error_rate=(1 - accuracy_score(y_test, y_pre3))"
   ]
  },
  {
   "cell_type": "code",
   "execution_count": 91,
   "metadata": {},
   "outputs": [
    {
     "data": {
      "text/plain": [
       "0.16763005780346818"
      ]
     },
     "execution_count": 91,
     "metadata": {},
     "output_type": "execute_result"
    }
   ],
   "source": [
    "d_dt3_error_rate"
   ]
  },
  {
   "cell_type": "code",
   "execution_count": 92,
   "metadata": {},
   "outputs": [],
   "source": [
    "kf = KFold(n_splits=5,random_state=1)"
   ]
  },
  {
   "cell_type": "code",
   "execution_count": 93,
   "metadata": {},
   "outputs": [
    {
     "name": "stdout",
     "output_type": "stream",
     "text": [
      "[fold 0] score: 0.81214\n",
      "[fold 1] score: 0.76301\n",
      "[fold 2] score: 0.78841\n",
      "[fold 3] score: 0.77391\n",
      "[fold 4] score: 0.72754\n"
     ]
    }
   ],
   "source": [
    "for k, (train_index, test_index) in enumerate(kf.split(X)):\n",
    " X_train, X_test = X[train_index], X[test_index]\n",
    " y_train, y_test = y[train_index], y[test_index]\n",
    " \n",
    " clf3.fit(X_train, y_train)\n",
    " print \"[fold {0}] score: {1:.5f}\".format(k, clf3.score(X_test, y_test))"
   ]
  },
  {
   "cell_type": "code",
   "execution_count": 94,
   "metadata": {},
   "outputs": [],
   "source": [
    "clf4 = RandomForestClassifier(n_estimators=1000, criterion='gini', max_depth=None, min_samples_split=2, min_samples_leaf=1, min_weight_fraction_leaf=0.0, max_features='auto', max_leaf_nodes=None, bootstrap=True, oob_score=False, n_jobs=4, random_state=None, verbose=0, warm_start=False, class_weight=None)"
   ]
  },
  {
   "cell_type": "code",
   "execution_count": 95,
   "metadata": {},
   "outputs": [],
   "source": [
    "X_train=X_train_unique\n",
    "X_test=X_test_unique\n",
    "y_train=y_train_unique\n",
    "y_test=y_test_unique"
   ]
  },
  {
   "cell_type": "code",
   "execution_count": 96,
   "metadata": {},
   "outputs": [],
   "source": [
    "fit4 = clf4.fit(X_train,y_train)"
   ]
  },
  {
   "cell_type": "code",
   "execution_count": 97,
   "metadata": {},
   "outputs": [],
   "source": [
    "y_pre4 = fit4.predict(X_test)  "
   ]
  },
  {
   "cell_type": "code",
   "execution_count": 98,
   "metadata": {},
   "outputs": [],
   "source": [
    "cm4 = confusion_matrix(y_test, y_pre4)"
   ]
  },
  {
   "cell_type": "code",
   "execution_count": 99,
   "metadata": {},
   "outputs": [
    {
     "data": {
      "text/plain": [
       "array([[369,   3,   0,   0],\n",
       "       [  2, 112,   0,   0],\n",
       "       [  0,   0,  16,   2],\n",
       "       [  0,   1,   0,  14]], dtype=int64)"
      ]
     },
     "execution_count": 99,
     "metadata": {},
     "output_type": "execute_result"
    }
   ],
   "source": [
    "cm4"
   ]
  },
  {
   "cell_type": "code",
   "execution_count": 100,
   "metadata": {},
   "outputs": [
    {
     "name": "stdout",
     "output_type": "stream",
     "text": [
      "             precision    recall  f1-score   support\n",
      "\n",
      "          0       0.99      0.99      0.99       372\n",
      "          1       0.97      0.98      0.97       114\n",
      "          2       1.00      0.89      0.94        18\n",
      "          3       0.88      0.93      0.90        15\n",
      "\n",
      "avg / total       0.98      0.98      0.98       519\n",
      "\n"
     ]
    }
   ],
   "source": [
    "print classification_report(y_test,y_pre4)"
   ]
  },
  {
   "cell_type": "code",
   "execution_count": 101,
   "metadata": {},
   "outputs": [],
   "source": [
    "score4 = accuracy_score(y_test, y_pre4)"
   ]
  },
  {
   "cell_type": "code",
   "execution_count": 102,
   "metadata": {
    "scrolled": true
   },
   "outputs": [
    {
     "data": {
      "text/plain": [
       "0.9845857418111753"
      ]
     },
     "execution_count": 102,
     "metadata": {},
     "output_type": "execute_result"
    }
   ],
   "source": [
    "score4"
   ]
  },
  {
   "cell_type": "code",
   "execution_count": 103,
   "metadata": {},
   "outputs": [],
   "source": [
    "d_rf_error_rate=(1 - accuracy_score(y_test, y_pre4))"
   ]
  },
  {
   "cell_type": "code",
   "execution_count": 104,
   "metadata": {},
   "outputs": [
    {
     "data": {
      "text/plain": [
       "0.015414258188824692"
      ]
     },
     "execution_count": 104,
     "metadata": {},
     "output_type": "execute_result"
    }
   ],
   "source": [
    "d_rf_error_rate"
   ]
  },
  {
   "cell_type": "code",
   "execution_count": 105,
   "metadata": {},
   "outputs": [],
   "source": [
    "kf = KFold(n_splits=5,random_state=2)"
   ]
  },
  {
   "cell_type": "code",
   "execution_count": 106,
   "metadata": {},
   "outputs": [
    {
     "name": "stdout",
     "output_type": "stream",
     "text": [
      "('TRAIN:', array([ 346,  347,  348, ..., 1724, 1725, 1726], dtype=int64), 'TEST:', array([  0,   1,   2,   3,   4,   5,   6,   7,   8,   9,  10,  11,  12,\n",
      "        13,  14,  15,  16,  17,  18,  19,  20,  21,  22,  23,  24,  25,\n",
      "        26,  27,  28,  29,  30,  31,  32,  33,  34,  35,  36,  37,  38,\n",
      "        39,  40,  41,  42,  43,  44,  45,  46,  47,  48,  49,  50,  51,\n",
      "        52,  53,  54,  55,  56,  57,  58,  59,  60,  61,  62,  63,  64,\n",
      "        65,  66,  67,  68,  69,  70,  71,  72,  73,  74,  75,  76,  77,\n",
      "        78,  79,  80,  81,  82,  83,  84,  85,  86,  87,  88,  89,  90,\n",
      "        91,  92,  93,  94,  95,  96,  97,  98,  99, 100, 101, 102, 103,\n",
      "       104, 105, 106, 107, 108, 109, 110, 111, 112, 113, 114, 115, 116,\n",
      "       117, 118, 119, 120, 121, 122, 123, 124, 125, 126, 127, 128, 129,\n",
      "       130, 131, 132, 133, 134, 135, 136, 137, 138, 139, 140, 141, 142,\n",
      "       143, 144, 145, 146, 147, 148, 149, 150, 151, 152, 153, 154, 155,\n",
      "       156, 157, 158, 159, 160, 161, 162, 163, 164, 165, 166, 167, 168,\n",
      "       169, 170, 171, 172, 173, 174, 175, 176, 177, 178, 179, 180, 181,\n",
      "       182, 183, 184, 185, 186, 187, 188, 189, 190, 191, 192, 193, 194,\n",
      "       195, 196, 197, 198, 199, 200, 201, 202, 203, 204, 205, 206, 207,\n",
      "       208, 209, 210, 211, 212, 213, 214, 215, 216, 217, 218, 219, 220,\n",
      "       221, 222, 223, 224, 225, 226, 227, 228, 229, 230, 231, 232, 233,\n",
      "       234, 235, 236, 237, 238, 239, 240, 241, 242, 243, 244, 245, 246,\n",
      "       247, 248, 249, 250, 251, 252, 253, 254, 255, 256, 257, 258, 259,\n",
      "       260, 261, 262, 263, 264, 265, 266, 267, 268, 269, 270, 271, 272,\n",
      "       273, 274, 275, 276, 277, 278, 279, 280, 281, 282, 283, 284, 285,\n",
      "       286, 287, 288, 289, 290, 291, 292, 293, 294, 295, 296, 297, 298,\n",
      "       299, 300, 301, 302, 303, 304, 305, 306, 307, 308, 309, 310, 311,\n",
      "       312, 313, 314, 315, 316, 317, 318, 319, 320, 321, 322, 323, 324,\n",
      "       325, 326, 327, 328, 329, 330, 331, 332, 333, 334, 335, 336, 337,\n",
      "       338, 339, 340, 341, 342, 343, 344, 345], dtype=int64))\n",
      "('TRAIN:', array([   0,    1,    2, ..., 1724, 1725, 1726], dtype=int64), 'TEST:', array([346, 347, 348, 349, 350, 351, 352, 353, 354, 355, 356, 357, 358,\n",
      "       359, 360, 361, 362, 363, 364, 365, 366, 367, 368, 369, 370, 371,\n",
      "       372, 373, 374, 375, 376, 377, 378, 379, 380, 381, 382, 383, 384,\n",
      "       385, 386, 387, 388, 389, 390, 391, 392, 393, 394, 395, 396, 397,\n",
      "       398, 399, 400, 401, 402, 403, 404, 405, 406, 407, 408, 409, 410,\n",
      "       411, 412, 413, 414, 415, 416, 417, 418, 419, 420, 421, 422, 423,\n",
      "       424, 425, 426, 427, 428, 429, 430, 431, 432, 433, 434, 435, 436,\n",
      "       437, 438, 439, 440, 441, 442, 443, 444, 445, 446, 447, 448, 449,\n",
      "       450, 451, 452, 453, 454, 455, 456, 457, 458, 459, 460, 461, 462,\n",
      "       463, 464, 465, 466, 467, 468, 469, 470, 471, 472, 473, 474, 475,\n",
      "       476, 477, 478, 479, 480, 481, 482, 483, 484, 485, 486, 487, 488,\n",
      "       489, 490, 491, 492, 493, 494, 495, 496, 497, 498, 499, 500, 501,\n",
      "       502, 503, 504, 505, 506, 507, 508, 509, 510, 511, 512, 513, 514,\n",
      "       515, 516, 517, 518, 519, 520, 521, 522, 523, 524, 525, 526, 527,\n",
      "       528, 529, 530, 531, 532, 533, 534, 535, 536, 537, 538, 539, 540,\n",
      "       541, 542, 543, 544, 545, 546, 547, 548, 549, 550, 551, 552, 553,\n",
      "       554, 555, 556, 557, 558, 559, 560, 561, 562, 563, 564, 565, 566,\n",
      "       567, 568, 569, 570, 571, 572, 573, 574, 575, 576, 577, 578, 579,\n",
      "       580, 581, 582, 583, 584, 585, 586, 587, 588, 589, 590, 591, 592,\n",
      "       593, 594, 595, 596, 597, 598, 599, 600, 601, 602, 603, 604, 605,\n",
      "       606, 607, 608, 609, 610, 611, 612, 613, 614, 615, 616, 617, 618,\n",
      "       619, 620, 621, 622, 623, 624, 625, 626, 627, 628, 629, 630, 631,\n",
      "       632, 633, 634, 635, 636, 637, 638, 639, 640, 641, 642, 643, 644,\n",
      "       645, 646, 647, 648, 649, 650, 651, 652, 653, 654, 655, 656, 657,\n",
      "       658, 659, 660, 661, 662, 663, 664, 665, 666, 667, 668, 669, 670,\n",
      "       671, 672, 673, 674, 675, 676, 677, 678, 679, 680, 681, 682, 683,\n",
      "       684, 685, 686, 687, 688, 689, 690, 691], dtype=int64))\n",
      "('TRAIN:', array([   0,    1,    2, ..., 1724, 1725, 1726], dtype=int64), 'TEST:', array([ 692,  693,  694,  695,  696,  697,  698,  699,  700,  701,  702,\n",
      "        703,  704,  705,  706,  707,  708,  709,  710,  711,  712,  713,\n",
      "        714,  715,  716,  717,  718,  719,  720,  721,  722,  723,  724,\n",
      "        725,  726,  727,  728,  729,  730,  731,  732,  733,  734,  735,\n",
      "        736,  737,  738,  739,  740,  741,  742,  743,  744,  745,  746,\n",
      "        747,  748,  749,  750,  751,  752,  753,  754,  755,  756,  757,\n",
      "        758,  759,  760,  761,  762,  763,  764,  765,  766,  767,  768,\n",
      "        769,  770,  771,  772,  773,  774,  775,  776,  777,  778,  779,\n",
      "        780,  781,  782,  783,  784,  785,  786,  787,  788,  789,  790,\n",
      "        791,  792,  793,  794,  795,  796,  797,  798,  799,  800,  801,\n",
      "        802,  803,  804,  805,  806,  807,  808,  809,  810,  811,  812,\n",
      "        813,  814,  815,  816,  817,  818,  819,  820,  821,  822,  823,\n",
      "        824,  825,  826,  827,  828,  829,  830,  831,  832,  833,  834,\n",
      "        835,  836,  837,  838,  839,  840,  841,  842,  843,  844,  845,\n",
      "        846,  847,  848,  849,  850,  851,  852,  853,  854,  855,  856,\n",
      "        857,  858,  859,  860,  861,  862,  863,  864,  865,  866,  867,\n",
      "        868,  869,  870,  871,  872,  873,  874,  875,  876,  877,  878,\n",
      "        879,  880,  881,  882,  883,  884,  885,  886,  887,  888,  889,\n",
      "        890,  891,  892,  893,  894,  895,  896,  897,  898,  899,  900,\n",
      "        901,  902,  903,  904,  905,  906,  907,  908,  909,  910,  911,\n",
      "        912,  913,  914,  915,  916,  917,  918,  919,  920,  921,  922,\n",
      "        923,  924,  925,  926,  927,  928,  929,  930,  931,  932,  933,\n",
      "        934,  935,  936,  937,  938,  939,  940,  941,  942,  943,  944,\n",
      "        945,  946,  947,  948,  949,  950,  951,  952,  953,  954,  955,\n",
      "        956,  957,  958,  959,  960,  961,  962,  963,  964,  965,  966,\n",
      "        967,  968,  969,  970,  971,  972,  973,  974,  975,  976,  977,\n",
      "        978,  979,  980,  981,  982,  983,  984,  985,  986,  987,  988,\n",
      "        989,  990,  991,  992,  993,  994,  995,  996,  997,  998,  999,\n",
      "       1000, 1001, 1002, 1003, 1004, 1005, 1006, 1007, 1008, 1009, 1010,\n",
      "       1011, 1012, 1013, 1014, 1015, 1016, 1017, 1018, 1019, 1020, 1021,\n",
      "       1022, 1023, 1024, 1025, 1026, 1027, 1028, 1029, 1030, 1031, 1032,\n",
      "       1033, 1034, 1035, 1036], dtype=int64))\n",
      "('TRAIN:', array([   0,    1,    2, ..., 1724, 1725, 1726], dtype=int64), 'TEST:', array([1037, 1038, 1039, 1040, 1041, 1042, 1043, 1044, 1045, 1046, 1047,\n",
      "       1048, 1049, 1050, 1051, 1052, 1053, 1054, 1055, 1056, 1057, 1058,\n",
      "       1059, 1060, 1061, 1062, 1063, 1064, 1065, 1066, 1067, 1068, 1069,\n",
      "       1070, 1071, 1072, 1073, 1074, 1075, 1076, 1077, 1078, 1079, 1080,\n",
      "       1081, 1082, 1083, 1084, 1085, 1086, 1087, 1088, 1089, 1090, 1091,\n",
      "       1092, 1093, 1094, 1095, 1096, 1097, 1098, 1099, 1100, 1101, 1102,\n",
      "       1103, 1104, 1105, 1106, 1107, 1108, 1109, 1110, 1111, 1112, 1113,\n",
      "       1114, 1115, 1116, 1117, 1118, 1119, 1120, 1121, 1122, 1123, 1124,\n",
      "       1125, 1126, 1127, 1128, 1129, 1130, 1131, 1132, 1133, 1134, 1135,\n",
      "       1136, 1137, 1138, 1139, 1140, 1141, 1142, 1143, 1144, 1145, 1146,\n",
      "       1147, 1148, 1149, 1150, 1151, 1152, 1153, 1154, 1155, 1156, 1157,\n",
      "       1158, 1159, 1160, 1161, 1162, 1163, 1164, 1165, 1166, 1167, 1168,\n",
      "       1169, 1170, 1171, 1172, 1173, 1174, 1175, 1176, 1177, 1178, 1179,\n",
      "       1180, 1181, 1182, 1183, 1184, 1185, 1186, 1187, 1188, 1189, 1190,\n",
      "       1191, 1192, 1193, 1194, 1195, 1196, 1197, 1198, 1199, 1200, 1201,\n",
      "       1202, 1203, 1204, 1205, 1206, 1207, 1208, 1209, 1210, 1211, 1212,\n",
      "       1213, 1214, 1215, 1216, 1217, 1218, 1219, 1220, 1221, 1222, 1223,\n",
      "       1224, 1225, 1226, 1227, 1228, 1229, 1230, 1231, 1232, 1233, 1234,\n",
      "       1235, 1236, 1237, 1238, 1239, 1240, 1241, 1242, 1243, 1244, 1245,\n",
      "       1246, 1247, 1248, 1249, 1250, 1251, 1252, 1253, 1254, 1255, 1256,\n",
      "       1257, 1258, 1259, 1260, 1261, 1262, 1263, 1264, 1265, 1266, 1267,\n",
      "       1268, 1269, 1270, 1271, 1272, 1273, 1274, 1275, 1276, 1277, 1278,\n",
      "       1279, 1280, 1281, 1282, 1283, 1284, 1285, 1286, 1287, 1288, 1289,\n",
      "       1290, 1291, 1292, 1293, 1294, 1295, 1296, 1297, 1298, 1299, 1300,\n",
      "       1301, 1302, 1303, 1304, 1305, 1306, 1307, 1308, 1309, 1310, 1311,\n",
      "       1312, 1313, 1314, 1315, 1316, 1317, 1318, 1319, 1320, 1321, 1322,\n",
      "       1323, 1324, 1325, 1326, 1327, 1328, 1329, 1330, 1331, 1332, 1333,\n",
      "       1334, 1335, 1336, 1337, 1338, 1339, 1340, 1341, 1342, 1343, 1344,\n",
      "       1345, 1346, 1347, 1348, 1349, 1350, 1351, 1352, 1353, 1354, 1355,\n",
      "       1356, 1357, 1358, 1359, 1360, 1361, 1362, 1363, 1364, 1365, 1366,\n",
      "       1367, 1368, 1369, 1370, 1371, 1372, 1373, 1374, 1375, 1376, 1377,\n",
      "       1378, 1379, 1380, 1381], dtype=int64))\n",
      "('TRAIN:', array([   0,    1,    2, ..., 1379, 1380, 1381], dtype=int64), 'TEST:', array([1382, 1383, 1384, 1385, 1386, 1387, 1388, 1389, 1390, 1391, 1392,\n",
      "       1393, 1394, 1395, 1396, 1397, 1398, 1399, 1400, 1401, 1402, 1403,\n",
      "       1404, 1405, 1406, 1407, 1408, 1409, 1410, 1411, 1412, 1413, 1414,\n",
      "       1415, 1416, 1417, 1418, 1419, 1420, 1421, 1422, 1423, 1424, 1425,\n",
      "       1426, 1427, 1428, 1429, 1430, 1431, 1432, 1433, 1434, 1435, 1436,\n",
      "       1437, 1438, 1439, 1440, 1441, 1442, 1443, 1444, 1445, 1446, 1447,\n",
      "       1448, 1449, 1450, 1451, 1452, 1453, 1454, 1455, 1456, 1457, 1458,\n",
      "       1459, 1460, 1461, 1462, 1463, 1464, 1465, 1466, 1467, 1468, 1469,\n",
      "       1470, 1471, 1472, 1473, 1474, 1475, 1476, 1477, 1478, 1479, 1480,\n",
      "       1481, 1482, 1483, 1484, 1485, 1486, 1487, 1488, 1489, 1490, 1491,\n",
      "       1492, 1493, 1494, 1495, 1496, 1497, 1498, 1499, 1500, 1501, 1502,\n",
      "       1503, 1504, 1505, 1506, 1507, 1508, 1509, 1510, 1511, 1512, 1513,\n",
      "       1514, 1515, 1516, 1517, 1518, 1519, 1520, 1521, 1522, 1523, 1524,\n",
      "       1525, 1526, 1527, 1528, 1529, 1530, 1531, 1532, 1533, 1534, 1535,\n",
      "       1536, 1537, 1538, 1539, 1540, 1541, 1542, 1543, 1544, 1545, 1546,\n",
      "       1547, 1548, 1549, 1550, 1551, 1552, 1553, 1554, 1555, 1556, 1557,\n",
      "       1558, 1559, 1560, 1561, 1562, 1563, 1564, 1565, 1566, 1567, 1568,\n",
      "       1569, 1570, 1571, 1572, 1573, 1574, 1575, 1576, 1577, 1578, 1579,\n",
      "       1580, 1581, 1582, 1583, 1584, 1585, 1586, 1587, 1588, 1589, 1590,\n",
      "       1591, 1592, 1593, 1594, 1595, 1596, 1597, 1598, 1599, 1600, 1601,\n",
      "       1602, 1603, 1604, 1605, 1606, 1607, 1608, 1609, 1610, 1611, 1612,\n",
      "       1613, 1614, 1615, 1616, 1617, 1618, 1619, 1620, 1621, 1622, 1623,\n",
      "       1624, 1625, 1626, 1627, 1628, 1629, 1630, 1631, 1632, 1633, 1634,\n",
      "       1635, 1636, 1637, 1638, 1639, 1640, 1641, 1642, 1643, 1644, 1645,\n",
      "       1646, 1647, 1648, 1649, 1650, 1651, 1652, 1653, 1654, 1655, 1656,\n",
      "       1657, 1658, 1659, 1660, 1661, 1662, 1663, 1664, 1665, 1666, 1667,\n",
      "       1668, 1669, 1670, 1671, 1672, 1673, 1674, 1675, 1676, 1677, 1678,\n",
      "       1679, 1680, 1681, 1682, 1683, 1684, 1685, 1686, 1687, 1688, 1689,\n",
      "       1690, 1691, 1692, 1693, 1694, 1695, 1696, 1697, 1698, 1699, 1700,\n",
      "       1701, 1702, 1703, 1704, 1705, 1706, 1707, 1708, 1709, 1710, 1711,\n",
      "       1712, 1713, 1714, 1715, 1716, 1717, 1718, 1719, 1720, 1721, 1722,\n",
      "       1723, 1724, 1725, 1726], dtype=int64))\n"
     ]
    }
   ],
   "source": [
    "for train_index, test_index in kf.split(X):\n",
    " print(\"TRAIN:\", train_index, \"TEST:\", test_index)\n",
    "X_train, X_test = X[train_index], X[test_index]\n",
    "y_train, y_test = y[train_index], y[test_index]"
   ]
  },
  {
   "cell_type": "code",
   "execution_count": 107,
   "metadata": {},
   "outputs": [
    {
     "name": "stdout",
     "output_type": "stream",
     "text": [
      "[fold 0] score: 0.89306\n",
      "[fold 1] score: 0.88728\n",
      "[fold 2] score: 0.97681\n",
      "[fold 3] score: 0.79130\n",
      "[fold 4] score: 0.86667\n"
     ]
    }
   ],
   "source": [
    "for k, (train_index, test_index) in enumerate(kf.split(X)):\n",
    " X_train, X_test = X[train_index], X[test_index]\n",
    " y_train, y_test = y[train_index], y[test_index]\n",
    " \n",
    " clf4.fit(X_train, y_train)\n",
    " print \"[fold {0}] score: {1:.5f}\".format(k, clf4.score(X_test, y_test))"
   ]
  },
  {
   "cell_type": "code",
   "execution_count": 108,
   "metadata": {},
   "outputs": [
    {
     "name": "stdout",
     "output_type": "stream",
     "text": [
      "[0.14168016 0.15742587 0.05502317 0.24670898 0.09050955 0.30865228]\n"
     ]
    }
   ],
   "source": [
    "print(clf4.feature_importances_)"
   ]
  },
  {
   "cell_type": "code",
   "execution_count": 109,
   "metadata": {},
   "outputs": [],
   "source": [
    "clf5 = RandomForestClassifier(n_estimators=10, criterion='gini', max_depth=5, min_samples_split=3, min_samples_leaf=3, min_weight_fraction_leaf=0.05, max_features='auto', max_leaf_nodes=None, bootstrap=True, oob_score=False, n_jobs=4, random_state=None, verbose=0, warm_start=False, class_weight='balanced')"
   ]
  },
  {
   "cell_type": "code",
   "execution_count": 110,
   "metadata": {},
   "outputs": [],
   "source": [
    "X_train=X_train_unique\n",
    "X_test=X_test_unique\n",
    "y_train=y_train_unique\n",
    "y_test=y_test_unique"
   ]
  },
  {
   "cell_type": "code",
   "execution_count": 111,
   "metadata": {},
   "outputs": [],
   "source": [
    "fit5 = clf5.fit(X_train,y_train)"
   ]
  },
  {
   "cell_type": "code",
   "execution_count": 112,
   "metadata": {},
   "outputs": [],
   "source": [
    "y_pre5 = fit5.predict(X_test) "
   ]
  },
  {
   "cell_type": "code",
   "execution_count": 113,
   "metadata": {},
   "outputs": [],
   "source": [
    "cm5 = confusion_matrix(y_test, y_pre5)"
   ]
  },
  {
   "cell_type": "code",
   "execution_count": 114,
   "metadata": {},
   "outputs": [
    {
     "data": {
      "text/plain": [
       "array([[315,  44,  13,   0],\n",
       "       [  0,  96,  17,   1],\n",
       "       [  0,   0,  12,   6],\n",
       "       [  0,   0,   0,  15]], dtype=int64)"
      ]
     },
     "execution_count": 114,
     "metadata": {},
     "output_type": "execute_result"
    }
   ],
   "source": [
    "cm5"
   ]
  },
  {
   "cell_type": "code",
   "execution_count": 115,
   "metadata": {
    "scrolled": true
   },
   "outputs": [
    {
     "name": "stdout",
     "output_type": "stream",
     "text": [
      "             precision    recall  f1-score   support\n",
      "\n",
      "          0       1.00      0.85      0.92       372\n",
      "          1       0.69      0.84      0.76       114\n",
      "          2       0.29      0.67      0.40        18\n",
      "          3       0.68      1.00      0.81        15\n",
      "\n",
      "avg / total       0.90      0.84      0.86       519\n",
      "\n"
     ]
    }
   ],
   "source": [
    "print classification_report(y_test,y_pre5)"
   ]
  },
  {
   "cell_type": "code",
   "execution_count": 116,
   "metadata": {},
   "outputs": [],
   "source": [
    "kf = KFold(n_splits=5,random_state=2)"
   ]
  },
  {
   "cell_type": "code",
   "execution_count": 117,
   "metadata": {},
   "outputs": [
    {
     "name": "stdout",
     "output_type": "stream",
     "text": [
      "[fold 0] score: 0.67341\n",
      "[fold 1] score: 0.83526\n",
      "[fold 2] score: 0.73913\n",
      "[fold 3] score: 0.74493\n",
      "[fold 4] score: 0.69275\n"
     ]
    }
   ],
   "source": [
    "for k, (train_index, test_index) in enumerate(kf.split(X)):\n",
    " X_train, X_test = X[train_index], X[test_index]\n",
    " y_train, y_test = y[train_index], y[test_index]\n",
    " \n",
    " clf5.fit(X_train, y_train)\n",
    " print \"[fold {0}] score: {1:.5f}\".format(k, clf5.score(X_test, y_test))"
   ]
  },
  {
   "cell_type": "code",
   "execution_count": 118,
   "metadata": {},
   "outputs": [],
   "source": [
    "from sklearn import svm"
   ]
  },
  {
   "cell_type": "code",
   "execution_count": 119,
   "metadata": {},
   "outputs": [],
   "source": [
    "X_train=X_train_unique\n",
    "X_test=X_test_unique\n",
    "y_train=y_train_unique\n",
    "y_test=y_test_unique"
   ]
  },
  {
   "cell_type": "code",
   "execution_count": 120,
   "metadata": {},
   "outputs": [],
   "source": [
    "clf6 = svm.SVC(decision_function_shape='ovo')"
   ]
  },
  {
   "cell_type": "code",
   "execution_count": 121,
   "metadata": {},
   "outputs": [
    {
     "data": {
      "text/plain": [
       "SVC(C=1.0, cache_size=200, class_weight=None, coef0=0.0,\n",
       "  decision_function_shape='ovo', degree=3, gamma='auto', kernel='rbf',\n",
       "  max_iter=-1, probability=False, random_state=None, shrinking=True,\n",
       "  tol=0.001, verbose=False)"
      ]
     },
     "execution_count": 121,
     "metadata": {},
     "output_type": "execute_result"
    }
   ],
   "source": [
    "clf6.fit(X_train, y_train)"
   ]
  },
  {
   "cell_type": "code",
   "execution_count": 122,
   "metadata": {},
   "outputs": [],
   "source": [
    "y_pre6 = clf6.predict(X_test)"
   ]
  },
  {
   "cell_type": "code",
   "execution_count": 123,
   "metadata": {},
   "outputs": [],
   "source": [
    "cm6= confusion_matrix(y_test, y_pre6)"
   ]
  },
  {
   "cell_type": "code",
   "execution_count": 124,
   "metadata": {},
   "outputs": [
    {
     "data": {
      "text/plain": [
       "array([[364,   7,   1,   0],\n",
       "       [  7, 103,   4,   0],\n",
       "       [  0,   2,  15,   1],\n",
       "       [  0,   3,   0,  12]], dtype=int64)"
      ]
     },
     "execution_count": 124,
     "metadata": {},
     "output_type": "execute_result"
    }
   ],
   "source": [
    "cm6"
   ]
  },
  {
   "cell_type": "code",
   "execution_count": 125,
   "metadata": {},
   "outputs": [
    {
     "name": "stdout",
     "output_type": "stream",
     "text": [
      "             precision    recall  f1-score   support\n",
      "\n",
      "          0       0.98      0.98      0.98       372\n",
      "          1       0.90      0.90      0.90       114\n",
      "          2       0.75      0.83      0.79        18\n",
      "          3       0.92      0.80      0.86        15\n",
      "\n",
      "avg / total       0.95      0.95      0.95       519\n",
      "\n"
     ]
    }
   ],
   "source": [
    "print classification_report(y_test,y_pre6)"
   ]
  },
  {
   "cell_type": "code",
   "execution_count": 126,
   "metadata": {},
   "outputs": [
    {
     "name": "stdout",
     "output_type": "stream",
     "text": [
      "[Train/test split] score: 0.95183\n"
     ]
    }
   ],
   "source": [
    "print \"[Train/test split] score: {:.5f}\".format(clf6.score(X_test, y_test)) "
   ]
  },
  {
   "cell_type": "code",
   "execution_count": 127,
   "metadata": {},
   "outputs": [],
   "source": [
    "score6 = accuracy_score(y_test, y_pre6)"
   ]
  },
  {
   "cell_type": "code",
   "execution_count": 128,
   "metadata": {},
   "outputs": [
    {
     "data": {
      "text/plain": [
       "0.9518304431599229"
      ]
     },
     "execution_count": 128,
     "metadata": {},
     "output_type": "execute_result"
    }
   ],
   "source": [
    "score6"
   ]
  },
  {
   "cell_type": "code",
   "execution_count": 129,
   "metadata": {},
   "outputs": [],
   "source": [
    "kf = KFold(n_splits=5,random_state=3)"
   ]
  },
  {
   "cell_type": "code",
   "execution_count": 130,
   "metadata": {},
   "outputs": [
    {
     "name": "stdout",
     "output_type": "stream",
     "text": [
      "('TRAIN:', array([ 346,  347,  348, ..., 1724, 1725, 1726], dtype=int64), 'TEST:', array([  0,   1,   2,   3,   4,   5,   6,   7,   8,   9,  10,  11,  12,\n",
      "        13,  14,  15,  16,  17,  18,  19,  20,  21,  22,  23,  24,  25,\n",
      "        26,  27,  28,  29,  30,  31,  32,  33,  34,  35,  36,  37,  38,\n",
      "        39,  40,  41,  42,  43,  44,  45,  46,  47,  48,  49,  50,  51,\n",
      "        52,  53,  54,  55,  56,  57,  58,  59,  60,  61,  62,  63,  64,\n",
      "        65,  66,  67,  68,  69,  70,  71,  72,  73,  74,  75,  76,  77,\n",
      "        78,  79,  80,  81,  82,  83,  84,  85,  86,  87,  88,  89,  90,\n",
      "        91,  92,  93,  94,  95,  96,  97,  98,  99, 100, 101, 102, 103,\n",
      "       104, 105, 106, 107, 108, 109, 110, 111, 112, 113, 114, 115, 116,\n",
      "       117, 118, 119, 120, 121, 122, 123, 124, 125, 126, 127, 128, 129,\n",
      "       130, 131, 132, 133, 134, 135, 136, 137, 138, 139, 140, 141, 142,\n",
      "       143, 144, 145, 146, 147, 148, 149, 150, 151, 152, 153, 154, 155,\n",
      "       156, 157, 158, 159, 160, 161, 162, 163, 164, 165, 166, 167, 168,\n",
      "       169, 170, 171, 172, 173, 174, 175, 176, 177, 178, 179, 180, 181,\n",
      "       182, 183, 184, 185, 186, 187, 188, 189, 190, 191, 192, 193, 194,\n",
      "       195, 196, 197, 198, 199, 200, 201, 202, 203, 204, 205, 206, 207,\n",
      "       208, 209, 210, 211, 212, 213, 214, 215, 216, 217, 218, 219, 220,\n",
      "       221, 222, 223, 224, 225, 226, 227, 228, 229, 230, 231, 232, 233,\n",
      "       234, 235, 236, 237, 238, 239, 240, 241, 242, 243, 244, 245, 246,\n",
      "       247, 248, 249, 250, 251, 252, 253, 254, 255, 256, 257, 258, 259,\n",
      "       260, 261, 262, 263, 264, 265, 266, 267, 268, 269, 270, 271, 272,\n",
      "       273, 274, 275, 276, 277, 278, 279, 280, 281, 282, 283, 284, 285,\n",
      "       286, 287, 288, 289, 290, 291, 292, 293, 294, 295, 296, 297, 298,\n",
      "       299, 300, 301, 302, 303, 304, 305, 306, 307, 308, 309, 310, 311,\n",
      "       312, 313, 314, 315, 316, 317, 318, 319, 320, 321, 322, 323, 324,\n",
      "       325, 326, 327, 328, 329, 330, 331, 332, 333, 334, 335, 336, 337,\n",
      "       338, 339, 340, 341, 342, 343, 344, 345], dtype=int64))\n",
      "('TRAIN:', array([   0,    1,    2, ..., 1724, 1725, 1726], dtype=int64), 'TEST:', array([346, 347, 348, 349, 350, 351, 352, 353, 354, 355, 356, 357, 358,\n",
      "       359, 360, 361, 362, 363, 364, 365, 366, 367, 368, 369, 370, 371,\n",
      "       372, 373, 374, 375, 376, 377, 378, 379, 380, 381, 382, 383, 384,\n",
      "       385, 386, 387, 388, 389, 390, 391, 392, 393, 394, 395, 396, 397,\n",
      "       398, 399, 400, 401, 402, 403, 404, 405, 406, 407, 408, 409, 410,\n",
      "       411, 412, 413, 414, 415, 416, 417, 418, 419, 420, 421, 422, 423,\n",
      "       424, 425, 426, 427, 428, 429, 430, 431, 432, 433, 434, 435, 436,\n",
      "       437, 438, 439, 440, 441, 442, 443, 444, 445, 446, 447, 448, 449,\n",
      "       450, 451, 452, 453, 454, 455, 456, 457, 458, 459, 460, 461, 462,\n",
      "       463, 464, 465, 466, 467, 468, 469, 470, 471, 472, 473, 474, 475,\n",
      "       476, 477, 478, 479, 480, 481, 482, 483, 484, 485, 486, 487, 488,\n",
      "       489, 490, 491, 492, 493, 494, 495, 496, 497, 498, 499, 500, 501,\n",
      "       502, 503, 504, 505, 506, 507, 508, 509, 510, 511, 512, 513, 514,\n",
      "       515, 516, 517, 518, 519, 520, 521, 522, 523, 524, 525, 526, 527,\n",
      "       528, 529, 530, 531, 532, 533, 534, 535, 536, 537, 538, 539, 540,\n",
      "       541, 542, 543, 544, 545, 546, 547, 548, 549, 550, 551, 552, 553,\n",
      "       554, 555, 556, 557, 558, 559, 560, 561, 562, 563, 564, 565, 566,\n",
      "       567, 568, 569, 570, 571, 572, 573, 574, 575, 576, 577, 578, 579,\n",
      "       580, 581, 582, 583, 584, 585, 586, 587, 588, 589, 590, 591, 592,\n",
      "       593, 594, 595, 596, 597, 598, 599, 600, 601, 602, 603, 604, 605,\n",
      "       606, 607, 608, 609, 610, 611, 612, 613, 614, 615, 616, 617, 618,\n",
      "       619, 620, 621, 622, 623, 624, 625, 626, 627, 628, 629, 630, 631,\n",
      "       632, 633, 634, 635, 636, 637, 638, 639, 640, 641, 642, 643, 644,\n",
      "       645, 646, 647, 648, 649, 650, 651, 652, 653, 654, 655, 656, 657,\n",
      "       658, 659, 660, 661, 662, 663, 664, 665, 666, 667, 668, 669, 670,\n",
      "       671, 672, 673, 674, 675, 676, 677, 678, 679, 680, 681, 682, 683,\n",
      "       684, 685, 686, 687, 688, 689, 690, 691], dtype=int64))\n",
      "('TRAIN:', array([   0,    1,    2, ..., 1724, 1725, 1726], dtype=int64), 'TEST:', array([ 692,  693,  694,  695,  696,  697,  698,  699,  700,  701,  702,\n",
      "        703,  704,  705,  706,  707,  708,  709,  710,  711,  712,  713,\n",
      "        714,  715,  716,  717,  718,  719,  720,  721,  722,  723,  724,\n",
      "        725,  726,  727,  728,  729,  730,  731,  732,  733,  734,  735,\n",
      "        736,  737,  738,  739,  740,  741,  742,  743,  744,  745,  746,\n",
      "        747,  748,  749,  750,  751,  752,  753,  754,  755,  756,  757,\n",
      "        758,  759,  760,  761,  762,  763,  764,  765,  766,  767,  768,\n",
      "        769,  770,  771,  772,  773,  774,  775,  776,  777,  778,  779,\n",
      "        780,  781,  782,  783,  784,  785,  786,  787,  788,  789,  790,\n",
      "        791,  792,  793,  794,  795,  796,  797,  798,  799,  800,  801,\n",
      "        802,  803,  804,  805,  806,  807,  808,  809,  810,  811,  812,\n",
      "        813,  814,  815,  816,  817,  818,  819,  820,  821,  822,  823,\n",
      "        824,  825,  826,  827,  828,  829,  830,  831,  832,  833,  834,\n",
      "        835,  836,  837,  838,  839,  840,  841,  842,  843,  844,  845,\n",
      "        846,  847,  848,  849,  850,  851,  852,  853,  854,  855,  856,\n",
      "        857,  858,  859,  860,  861,  862,  863,  864,  865,  866,  867,\n",
      "        868,  869,  870,  871,  872,  873,  874,  875,  876,  877,  878,\n",
      "        879,  880,  881,  882,  883,  884,  885,  886,  887,  888,  889,\n",
      "        890,  891,  892,  893,  894,  895,  896,  897,  898,  899,  900,\n",
      "        901,  902,  903,  904,  905,  906,  907,  908,  909,  910,  911,\n",
      "        912,  913,  914,  915,  916,  917,  918,  919,  920,  921,  922,\n",
      "        923,  924,  925,  926,  927,  928,  929,  930,  931,  932,  933,\n",
      "        934,  935,  936,  937,  938,  939,  940,  941,  942,  943,  944,\n",
      "        945,  946,  947,  948,  949,  950,  951,  952,  953,  954,  955,\n",
      "        956,  957,  958,  959,  960,  961,  962,  963,  964,  965,  966,\n",
      "        967,  968,  969,  970,  971,  972,  973,  974,  975,  976,  977,\n",
      "        978,  979,  980,  981,  982,  983,  984,  985,  986,  987,  988,\n",
      "        989,  990,  991,  992,  993,  994,  995,  996,  997,  998,  999,\n",
      "       1000, 1001, 1002, 1003, 1004, 1005, 1006, 1007, 1008, 1009, 1010,\n",
      "       1011, 1012, 1013, 1014, 1015, 1016, 1017, 1018, 1019, 1020, 1021,\n",
      "       1022, 1023, 1024, 1025, 1026, 1027, 1028, 1029, 1030, 1031, 1032,\n",
      "       1033, 1034, 1035, 1036], dtype=int64))\n",
      "('TRAIN:', array([   0,    1,    2, ..., 1724, 1725, 1726], dtype=int64), 'TEST:', array([1037, 1038, 1039, 1040, 1041, 1042, 1043, 1044, 1045, 1046, 1047,\n",
      "       1048, 1049, 1050, 1051, 1052, 1053, 1054, 1055, 1056, 1057, 1058,\n",
      "       1059, 1060, 1061, 1062, 1063, 1064, 1065, 1066, 1067, 1068, 1069,\n",
      "       1070, 1071, 1072, 1073, 1074, 1075, 1076, 1077, 1078, 1079, 1080,\n",
      "       1081, 1082, 1083, 1084, 1085, 1086, 1087, 1088, 1089, 1090, 1091,\n",
      "       1092, 1093, 1094, 1095, 1096, 1097, 1098, 1099, 1100, 1101, 1102,\n",
      "       1103, 1104, 1105, 1106, 1107, 1108, 1109, 1110, 1111, 1112, 1113,\n",
      "       1114, 1115, 1116, 1117, 1118, 1119, 1120, 1121, 1122, 1123, 1124,\n",
      "       1125, 1126, 1127, 1128, 1129, 1130, 1131, 1132, 1133, 1134, 1135,\n",
      "       1136, 1137, 1138, 1139, 1140, 1141, 1142, 1143, 1144, 1145, 1146,\n",
      "       1147, 1148, 1149, 1150, 1151, 1152, 1153, 1154, 1155, 1156, 1157,\n",
      "       1158, 1159, 1160, 1161, 1162, 1163, 1164, 1165, 1166, 1167, 1168,\n",
      "       1169, 1170, 1171, 1172, 1173, 1174, 1175, 1176, 1177, 1178, 1179,\n",
      "       1180, 1181, 1182, 1183, 1184, 1185, 1186, 1187, 1188, 1189, 1190,\n",
      "       1191, 1192, 1193, 1194, 1195, 1196, 1197, 1198, 1199, 1200, 1201,\n",
      "       1202, 1203, 1204, 1205, 1206, 1207, 1208, 1209, 1210, 1211, 1212,\n",
      "       1213, 1214, 1215, 1216, 1217, 1218, 1219, 1220, 1221, 1222, 1223,\n",
      "       1224, 1225, 1226, 1227, 1228, 1229, 1230, 1231, 1232, 1233, 1234,\n",
      "       1235, 1236, 1237, 1238, 1239, 1240, 1241, 1242, 1243, 1244, 1245,\n",
      "       1246, 1247, 1248, 1249, 1250, 1251, 1252, 1253, 1254, 1255, 1256,\n",
      "       1257, 1258, 1259, 1260, 1261, 1262, 1263, 1264, 1265, 1266, 1267,\n",
      "       1268, 1269, 1270, 1271, 1272, 1273, 1274, 1275, 1276, 1277, 1278,\n",
      "       1279, 1280, 1281, 1282, 1283, 1284, 1285, 1286, 1287, 1288, 1289,\n",
      "       1290, 1291, 1292, 1293, 1294, 1295, 1296, 1297, 1298, 1299, 1300,\n",
      "       1301, 1302, 1303, 1304, 1305, 1306, 1307, 1308, 1309, 1310, 1311,\n",
      "       1312, 1313, 1314, 1315, 1316, 1317, 1318, 1319, 1320, 1321, 1322,\n",
      "       1323, 1324, 1325, 1326, 1327, 1328, 1329, 1330, 1331, 1332, 1333,\n",
      "       1334, 1335, 1336, 1337, 1338, 1339, 1340, 1341, 1342, 1343, 1344,\n",
      "       1345, 1346, 1347, 1348, 1349, 1350, 1351, 1352, 1353, 1354, 1355,\n",
      "       1356, 1357, 1358, 1359, 1360, 1361, 1362, 1363, 1364, 1365, 1366,\n",
      "       1367, 1368, 1369, 1370, 1371, 1372, 1373, 1374, 1375, 1376, 1377,\n",
      "       1378, 1379, 1380, 1381], dtype=int64))\n",
      "('TRAIN:', array([   0,    1,    2, ..., 1379, 1380, 1381], dtype=int64), 'TEST:', array([1382, 1383, 1384, 1385, 1386, 1387, 1388, 1389, 1390, 1391, 1392,\n",
      "       1393, 1394, 1395, 1396, 1397, 1398, 1399, 1400, 1401, 1402, 1403,\n",
      "       1404, 1405, 1406, 1407, 1408, 1409, 1410, 1411, 1412, 1413, 1414,\n",
      "       1415, 1416, 1417, 1418, 1419, 1420, 1421, 1422, 1423, 1424, 1425,\n",
      "       1426, 1427, 1428, 1429, 1430, 1431, 1432, 1433, 1434, 1435, 1436,\n",
      "       1437, 1438, 1439, 1440, 1441, 1442, 1443, 1444, 1445, 1446, 1447,\n",
      "       1448, 1449, 1450, 1451, 1452, 1453, 1454, 1455, 1456, 1457, 1458,\n",
      "       1459, 1460, 1461, 1462, 1463, 1464, 1465, 1466, 1467, 1468, 1469,\n",
      "       1470, 1471, 1472, 1473, 1474, 1475, 1476, 1477, 1478, 1479, 1480,\n",
      "       1481, 1482, 1483, 1484, 1485, 1486, 1487, 1488, 1489, 1490, 1491,\n",
      "       1492, 1493, 1494, 1495, 1496, 1497, 1498, 1499, 1500, 1501, 1502,\n",
      "       1503, 1504, 1505, 1506, 1507, 1508, 1509, 1510, 1511, 1512, 1513,\n",
      "       1514, 1515, 1516, 1517, 1518, 1519, 1520, 1521, 1522, 1523, 1524,\n",
      "       1525, 1526, 1527, 1528, 1529, 1530, 1531, 1532, 1533, 1534, 1535,\n",
      "       1536, 1537, 1538, 1539, 1540, 1541, 1542, 1543, 1544, 1545, 1546,\n",
      "       1547, 1548, 1549, 1550, 1551, 1552, 1553, 1554, 1555, 1556, 1557,\n",
      "       1558, 1559, 1560, 1561, 1562, 1563, 1564, 1565, 1566, 1567, 1568,\n",
      "       1569, 1570, 1571, 1572, 1573, 1574, 1575, 1576, 1577, 1578, 1579,\n",
      "       1580, 1581, 1582, 1583, 1584, 1585, 1586, 1587, 1588, 1589, 1590,\n",
      "       1591, 1592, 1593, 1594, 1595, 1596, 1597, 1598, 1599, 1600, 1601,\n",
      "       1602, 1603, 1604, 1605, 1606, 1607, 1608, 1609, 1610, 1611, 1612,\n",
      "       1613, 1614, 1615, 1616, 1617, 1618, 1619, 1620, 1621, 1622, 1623,\n",
      "       1624, 1625, 1626, 1627, 1628, 1629, 1630, 1631, 1632, 1633, 1634,\n",
      "       1635, 1636, 1637, 1638, 1639, 1640, 1641, 1642, 1643, 1644, 1645,\n",
      "       1646, 1647, 1648, 1649, 1650, 1651, 1652, 1653, 1654, 1655, 1656,\n",
      "       1657, 1658, 1659, 1660, 1661, 1662, 1663, 1664, 1665, 1666, 1667,\n",
      "       1668, 1669, 1670, 1671, 1672, 1673, 1674, 1675, 1676, 1677, 1678,\n",
      "       1679, 1680, 1681, 1682, 1683, 1684, 1685, 1686, 1687, 1688, 1689,\n",
      "       1690, 1691, 1692, 1693, 1694, 1695, 1696, 1697, 1698, 1699, 1700,\n",
      "       1701, 1702, 1703, 1704, 1705, 1706, 1707, 1708, 1709, 1710, 1711,\n",
      "       1712, 1713, 1714, 1715, 1716, 1717, 1718, 1719, 1720, 1721, 1722,\n",
      "       1723, 1724, 1725, 1726], dtype=int64))\n"
     ]
    }
   ],
   "source": [
    "for train_index, test_index in kf.split(X):\n",
    " print(\"TRAIN:\", train_index, \"TEST:\", test_index)\n",
    "X_train, X_test = X[train_index], X[test_index]\n",
    "y_train, y_test = y[train_index], y[test_index]"
   ]
  },
  {
   "cell_type": "code",
   "execution_count": 131,
   "metadata": {},
   "outputs": [
    {
     "name": "stdout",
     "output_type": "stream",
     "text": [
      "[fold 0] score: 0.98555\n",
      "[fold 1] score: 0.97110\n",
      "[fold 2] score: 0.91884\n",
      "[fold 3] score: 0.90725\n",
      "[fold 4] score: 0.85217\n"
     ]
    }
   ],
   "source": [
    "for k, (train_index, test_index) in enumerate(kf.split(X)):\n",
    " X_train, X_test = X[train_index], X[test_index]\n",
    " y_train, y_test = y[train_index], y[test_index]\n",
    " clf6.fit(X_train, y_train)\n",
    " print \"[fold {0}] score: {1:.5f}\".format(k,clf6.score(X_test, y_test))"
   ]
  },
  {
   "cell_type": "code",
   "execution_count": 132,
   "metadata": {},
   "outputs": [],
   "source": [
    "clf7 = svm.SVC(C=2.0, cache_size=100, class_weight=None, coef0=0.0,\n",
    "    decision_function_shape='ovo', degree=3, gamma='auto', kernel='rbf',\n",
    "    max_iter=-1, probability=True, random_state=None, shrinking=False,\n",
    "    tol=0.001, verbose=False)"
   ]
  },
  {
   "cell_type": "code",
   "execution_count": 133,
   "metadata": {},
   "outputs": [],
   "source": [
    "X_train=X_train_unique\n",
    "X_test=X_test_unique\n",
    "y_train=y_train_unique\n",
    "y_test=y_test_unique"
   ]
  },
  {
   "cell_type": "code",
   "execution_count": 134,
   "metadata": {},
   "outputs": [
    {
     "data": {
      "text/plain": [
       "SVC(C=2.0, cache_size=100, class_weight=None, coef0=0.0,\n",
       "  decision_function_shape='ovo', degree=3, gamma='auto', kernel='rbf',\n",
       "  max_iter=-1, probability=True, random_state=None, shrinking=False,\n",
       "  tol=0.001, verbose=False)"
      ]
     },
     "execution_count": 134,
     "metadata": {},
     "output_type": "execute_result"
    }
   ],
   "source": [
    "clf7.fit(X_train, y_train)"
   ]
  },
  {
   "cell_type": "code",
   "execution_count": 135,
   "metadata": {},
   "outputs": [],
   "source": [
    "y_pre7 = clf7.predict(X_test)"
   ]
  },
  {
   "cell_type": "code",
   "execution_count": 136,
   "metadata": {},
   "outputs": [],
   "source": [
    "cm7= confusion_matrix(y_test, y_pre7)"
   ]
  },
  {
   "cell_type": "code",
   "execution_count": 137,
   "metadata": {},
   "outputs": [
    {
     "data": {
      "text/plain": [
       "array([[366,   5,   1,   0],\n",
       "       [  4, 107,   3,   0],\n",
       "       [  0,   1,  15,   2],\n",
       "       [  0,   1,   0,  14]], dtype=int64)"
      ]
     },
     "execution_count": 137,
     "metadata": {},
     "output_type": "execute_result"
    }
   ],
   "source": [
    "cm7"
   ]
  },
  {
   "cell_type": "code",
   "execution_count": 138,
   "metadata": {},
   "outputs": [
    {
     "name": "stdout",
     "output_type": "stream",
     "text": [
      "             precision    recall  f1-score   support\n",
      "\n",
      "          0       0.99      0.98      0.99       372\n",
      "          1       0.94      0.94      0.94       114\n",
      "          2       0.79      0.83      0.81        18\n",
      "          3       0.88      0.93      0.90        15\n",
      "\n",
      "avg / total       0.97      0.97      0.97       519\n",
      "\n"
     ]
    }
   ],
   "source": [
    "print classification_report(y_test,y_pre7)"
   ]
  },
  {
   "cell_type": "code",
   "execution_count": 139,
   "metadata": {},
   "outputs": [],
   "source": [
    "score7 = accuracy_score(y_test, y_pre7)"
   ]
  },
  {
   "cell_type": "code",
   "execution_count": 140,
   "metadata": {},
   "outputs": [
    {
     "data": {
      "text/plain": [
       "0.9672447013487476"
      ]
     },
     "execution_count": 140,
     "metadata": {},
     "output_type": "execute_result"
    }
   ],
   "source": [
    "score7"
   ]
  },
  {
   "cell_type": "code",
   "execution_count": 141,
   "metadata": {},
   "outputs": [],
   "source": [
    "errorrate_7=1-score7"
   ]
  },
  {
   "cell_type": "code",
   "execution_count": 142,
   "metadata": {},
   "outputs": [
    {
     "data": {
      "text/plain": [
       "0.032755298651252374"
      ]
     },
     "execution_count": 142,
     "metadata": {},
     "output_type": "execute_result"
    }
   ],
   "source": [
    "errorrate_7"
   ]
  },
  {
   "cell_type": "code",
   "execution_count": 143,
   "metadata": {},
   "outputs": [],
   "source": [
    "kf = KFold(n_splits=5,random_state=3)"
   ]
  },
  {
   "cell_type": "code",
   "execution_count": 144,
   "metadata": {},
   "outputs": [
    {
     "name": "stdout",
     "output_type": "stream",
     "text": [
      "[fold 0] score: 0.98266\n",
      "[fold 1] score: 0.96243\n",
      "[fold 2] score: 0.92464\n",
      "[fold 3] score: 0.87246\n",
      "[fold 4] score: 0.85217\n"
     ]
    }
   ],
   "source": [
    "for k, (train_index, test_index) in enumerate(kf.split(X)):\n",
    " X_train, X_test = X[train_index], X[test_index]\n",
    " y_train, y_test = y[train_index], y[test_index]\n",
    " \n",
    " clf7.fit(X_train, y_train)\n",
    " print \"[fold {0}] score: {1:.5f}\".format(k,clf7.score(X_test, y_test))"
   ]
  }
 ],
 "metadata": {
  "kernelspec": {
   "display_name": "Python 2",
   "language": "python",
   "name": "python2"
  },
  "language_info": {
   "codemirror_mode": {
    "name": "ipython",
    "version": 2
   },
   "file_extension": ".py",
   "mimetype": "text/x-python",
   "name": "python",
   "nbconvert_exporter": "python",
   "pygments_lexer": "ipython2",
   "version": "2.7.14"
  }
 },
 "nbformat": 4,
 "nbformat_minor": 2
}
